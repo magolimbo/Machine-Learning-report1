{
 "cells": [
  {
   "cell_type": "code",
   "execution_count": 2,
   "metadata": {},
   "outputs": [],
   "source": [
    "from scipy.io import loadmat\n",
    "from matplotlib.pyplot import (\n",
    "    figure,\n",
    "    subplot,\n",
    "    plot,\n",
    "    xlabel,\n",
    "    ylabel,\n",
    "    title,\n",
    "    yticks,\n",
    "    show,\n",
    "    legend,\n",
    "    imshow,\n",
    "    cm,\n",
    ")\n",
    "import scipy.linalg as linalg\n",
    "from scipy.linalg import svd\n",
    "import matplotlib.pyplot as plt\n",
    "import numpy as np\n",
    "import xlrd\n",
    "import pandas as pd\n",
    "from pandas.plotting import scatter_matrix\n",
    "from mpl_toolkits.mplot3d import Axes3D\n",
    "import seaborn as sns"
   ]
  },
  {
   "cell_type": "code",
   "execution_count": 3,
   "metadata": {},
   "outputs": [],
   "source": [
    "file_path = r\"C:\\Users\\Dell\\Desktop\\Git\\Machine-Learning-report1\\MAIN_Movies_DS.xls\"\n",
    "doc = xlrd.open_workbook(file_path).sheet_by_index(0)"
   ]
  },
  {
   "cell_type": "code",
   "execution_count": 4,
   "metadata": {},
   "outputs": [],
   "source": [
    "# Extract attribute names\n",
    "attributeNames = doc.row_values(0, 2, 10)\n",
    "\n",
    "# Extract MPAA names to python list, then encode with integers (dict)\n",
    "mpaa = doc.col_values(3, 2, 636)\n",
    "mpaa_name = sorted(set(mpaa))  # set because it deletes the duplicates\n",
    "mpaaDict = dict(zip(mpaa_name, range(5)))\n",
    "\n",
    "# Extract names to python list, then encode with integers (dict)\n",
    "# the column Genre was moved to this position in excel\n",
    "genre = doc.col_values(2, 2, 636)\n",
    "genre_name = sorted(set(genre))\n",
    "genreDict = dict(zip(genre_name, range(18)))\n",
    "\n",
    "title = doc.col_values(1, 2, 636)\n",
    "title_name = sorted(set(title))\n",
    "titleDict = dict(zip(title_name, range(627)))\n",
    "\n",
    "rating = doc.col_values(8, 2, 636)\n",
    "rating_name = sorted(set(rating))\n",
    "ratDict = dict(zip(rating_name, range(627)))"
   ]
  },
  {
   "cell_type": "markdown",
   "metadata": {},
   "source": [
    "Creating y_vectors to project the data on them (I think)\n"
   ]
  },
  {
   "cell_type": "code",
   "execution_count": 5,
   "metadata": {},
   "outputs": [],
   "source": [
    "# Extract vector y, convert to NumPy array\n",
    "y_mpaa = np.array([mpaaDict[value] for value in mpaa])\n",
    "y_genre = np.array([genreDict[value] for value in genre])\n",
    "y_title = np.array([titleDict[value] for value in title])\n",
    "y_rat = np.array([ratDict[value] for value in rating])"
   ]
  },
  {
   "cell_type": "markdown",
   "metadata": {},
   "source": [
    "Main dataframe to use for classification and regression\n"
   ]
  },
  {
   "cell_type": "code",
   "execution_count": 6,
   "metadata": {},
   "outputs": [],
   "source": [
    "# Create a dataframe from the data\n",
    "data = pd.DataFrame(\n",
    "    {\n",
    "        \"MPAA_Rating\": y_mpaa,\n",
    "        \"genre\": y_genre,\n",
    "        \"title\": y_title,\n",
    "        \"Budget\": doc.col_values(4, 2, 636),\n",
    "        \"Gross\": doc.col_values(5, 2, 636),\n",
    "        \"release_date\": doc.col_values(6, 2, 636),\n",
    "        \"runtime\": doc.col_values(7, 2, 636),\n",
    "        \"rating\": doc.col_values(8, 2, 636),\n",
    "        \"rating_count\": doc.col_values(9, 2, 636),\n",
    "    }\n",
    ")"
   ]
  },
  {
   "cell_type": "code",
   "execution_count": 7,
   "metadata": {},
   "outputs": [],
   "source": [
    "# DATA CLEANING\n",
    "# Remove duplicates based on the \"title\" column\n",
    "data = data.drop_duplicates(subset=\"title\", keep=\"first\")"
   ]
  },
  {
   "cell_type": "code",
   "execution_count": 8,
   "metadata": {},
   "outputs": [
    {
     "name": "stdout",
     "output_type": "stream",
     "text": [
      "Stored 'data' (DataFrame)\n"
     ]
    }
   ],
   "source": [
    "%store data"
   ]
  },
  {
   "cell_type": "code",
   "execution_count": 9,
   "metadata": {},
   "outputs": [],
   "source": [
    "# Extract X and y from the cleaned dataframe\n",
    "X = data[\n",
    "    [\n",
    "        \"MPAA_Rating\",\n",
    "        \"genre\",\n",
    "        \"Budget\",\n",
    "        \"Gross\",\n",
    "        \"release_date\",\n",
    "        \"runtime\",\n",
    "        \"rating\",\n",
    "        \"rating_count\",\n",
    "    ]\n",
    "].values\n",
    "y_mpaa = data[\"MPAA_Rating\"].values\n",
    "y_genre = data[\"genre\"].values\n",
    "y_gross = data[\"Gross\"].values > 4 * data[\"Budget\"].values\n",
    "y_rat = data[\"rating\"].values > 7\n",
    "\n",
    "N_mpaa = len(y_mpaa)\n",
    "N_genre = len(y_genre)\n",
    "M = len(attributeNames)\n",
    "C_mpaa = len(mpaa_name)\n",
    "C_genre = len(genre_name)"
   ]
  },
  {
   "cell_type": "code",
   "execution_count": 15,
   "metadata": {},
   "outputs": [
    {
     "name": "stdout",
     "output_type": "stream",
     "text": [
      "Stored 'X' (ndarray)\n"
     ]
    }
   ],
   "source": [
    "%store X"
   ]
  },
  {
   "cell_type": "code",
   "execution_count": 10,
   "metadata": {},
   "outputs": [],
   "source": [
    "# Creating dictionaries\n",
    "genreNames = [gen for gen in genreDict]\n",
    "mpaaNames = [mpa for mpa in mpaaDict]\n",
    "ratingNames = [rat for rat in ratDict]\n",
    "\n",
    "# Select subset of digits classes to be inspected\n",
    "class_mask = np.zeros(N_mpaa).astype(bool)\n",
    "\n",
    "# Selection of the genree to visualize\n",
    "# genres = range(18)\n",
    "genres = [0, 2, 9, 15]\n",
    "# mpaas = [1, 3]\n",
    "# gross = [0, 1]\n",
    "# ratings = [0, 1, 2, 3]"
   ]
  },
  {
   "cell_type": "code",
   "execution_count": 11,
   "metadata": {},
   "outputs": [],
   "source": [
    "# =============================================================================\n",
    "# for v in gross:\n",
    "#     cmsk = y_gross == v\n",
    "#     class_mask = class_mask | cmsk\n",
    "# =============================================================================\n",
    "\n",
    "# =============================================================================\n",
    "# for v in ratings:\n",
    "#     cmsk = y_rat == v\n",
    "#     class_mask = class_mask | cmsk\n",
    "# =============================================================================\n",
    "\n",
    "for v in genres:\n",
    "    cmsk = y_genre == v\n",
    "    class_mask = class_mask | cmsk\n",
    "\n",
    "# =============================================================================\n",
    "# for v in mpaas:\n",
    "#     cmsk = y_mpaa == v\n",
    "#     class_mask = class_mask | cmsk\n",
    "# =============================================================================\n",
    "X = X[class_mask, :]\n",
    "# y_mpaa = y_mpaa[class_mask]\n",
    "y_genre = y_genre[class_mask]\n",
    "# y_gross = y_gross[class_mask]\n",
    "# y_rat = y_rat[class_mask]"
   ]
  },
  {
   "cell_type": "code",
   "execution_count": 12,
   "metadata": {},
   "outputs": [],
   "source": [
    "N = X.shape[0]"
   ]
  },
  {
   "cell_type": "markdown",
   "metadata": {},
   "source": [
    "PCA\n"
   ]
  },
  {
   "cell_type": "code",
   "execution_count": 13,
   "metadata": {},
   "outputs": [],
   "source": [
    "## PCA\n",
    "Xc = X - np.ones((N, 1)) * X.mean(axis=0)\n",
    "Xc = Xc * (1 / np.std(X, 0))\n",
    "# PCA by computing SVD of Y\n",
    "U, S, V = svd(Xc, full_matrices=False)\n",
    "\n",
    "# Compute variance explained by principal components\n",
    "rho = (S * S) / (S * S).sum()\n",
    "\n",
    "# Project data onto principal component space\n",
    "Z = Xc @ V\n",
    "\n",
    "# threshold = sum(rho[:4])\n",
    "threshold = 0.8"
   ]
  },
  {
   "cell_type": "markdown",
   "metadata": {},
   "source": [
    "Plotting\n"
   ]
  },
  {
   "cell_type": "code",
   "execution_count": 14,
   "metadata": {},
   "outputs": [
    {
     "data": {
      "image/png": "[encoded data removed]",
      "text/plain": [
       "<Figure size 640x480 with 1 Axes>"
      ]
     },
     "metadata": {},
     "output_type": "display_data"
    }
   ],
   "source": [
    "# # Create a new figure with 2D projection\n",
    "fig = plt.figure()\n",
    "ax = fig.add_subplot(111)\n",
    "plt.title(\"Movies Genres projected on PCs\")\n",
    "\n",
    "# GENRES\n",
    "for c in genres:\n",
    "    # Select indices belonging to class c\n",
    "    class_mask = y_genre == c\n",
    "    ax.scatter(\n",
    "        Z[class_mask, 0],\n",
    "        Z[class_mask, 1],\n",
    "        marker=\"o\",\n",
    "        s=50,\n",
    "        alpha=0.9,\n",
    "        label=genreNames[c],\n",
    "    )\n",
    "\n",
    "ax.set_xlabel(\"PC1\")\n",
    "ax.set_ylabel(\"PC2\")\n",
    "\n",
    "plt.legend()\n",
    "# Show the 3D plot\n",
    "plt.show()"
   ]
  }
 ],
 "metadata": {
  "kernelspec": {
   "display_name": "Python 3",
   "language": "python",
   "name": "python3"
  },
  "language_info": {
   "codemirror_mode": {
    "name": "ipython",
    "version": 3
   },
   "file_extension": ".py",
   "mimetype": "text/x-python",
   "name": "python",
   "nbconvert_exporter": "python",
   "pygments_lexer": "ipython3",
   "version": "3.11.6"
  }
 },
 "nbformat": 4,
 "nbformat_minor": 2
}
