{
 "cells": [
  {
   "cell_type": "markdown",
   "metadata": {},
   "source": [
    "## Regression part a\n"
   ]
  },
  {
   "cell_type": "markdown",
   "metadata": {},
   "source": [
    "### 1:\n",
    "\n",
    "Explain what variable is predicted based on which other variables and what\n",
    "you hope to accomplish by the regression. Mention your feature transformation\n",
    "choices such as one-of-K coding. Since we will use regularization momentarily,\n",
    "apply a feature transformation to your data matrix X such that each column\n",
    "has mean 0 and standard deviation 1.\n"
   ]
  },
  {
   "cell_type": "code",
   "execution_count": 1,
   "metadata": {},
   "outputs": [],
   "source": [
    "import numpy as np\n",
    "import pandas as pd\n",
    "from sklearn.preprocessing import StandardScaler\n",
    "from sklearn.model_selection import KFold, cross_val_predict\n",
    "from sklearn.linear_model import Ridge\n",
    "import matplotlib.pyplot as plt"
   ]
  },
  {
   "cell_type": "code",
   "execution_count": 2,
   "metadata": {},
   "outputs": [],
   "source": [
    "%store -r data"
   ]
  },
  {
   "cell_type": "code",
   "execution_count": 27,
   "metadata": {},
   "outputs": [
    {
     "data": {
      "text/html": [
       "<div>\n",
       "<style scoped>\n",
       "    .dataframe tbody tr th:only-of-type {\n",
       "        vertical-align: middle;\n",
       "    }\n",
       "\n",
       "    .dataframe tbody tr th {\n",
       "        vertical-align: top;\n",
       "    }\n",
       "\n",
       "    .dataframe thead th {\n",
       "        text-align: right;\n",
       "    }\n",
       "</style>\n",
       "<table border=\"1\" class=\"dataframe\">\n",
       "  <thead>\n",
       "    <tr style=\"text-align: right;\">\n",
       "      <th></th>\n",
       "      <th>MPAA_Rating</th>\n",
       "      <th>genre</th>\n",
       "      <th>title</th>\n",
       "      <th>Budget</th>\n",
       "      <th>Gross</th>\n",
       "      <th>release_date</th>\n",
       "      <th>runtime</th>\n",
       "      <th>rating</th>\n",
       "      <th>rating_count</th>\n",
       "    </tr>\n",
       "  </thead>\n",
       "  <tbody>\n",
       "    <tr>\n",
       "      <th>0</th>\n",
       "      <td>1</td>\n",
       "      <td>3</td>\n",
       "      <td>129</td>\n",
       "      <td>7500000.0</td>\n",
       "      <td>145793296.0</td>\n",
       "      <td>32855.0</td>\n",
       "      <td>99.0</td>\n",
       "      <td>7.4</td>\n",
       "      <td>91075.0</td>\n",
       "    </tr>\n",
       "    <tr>\n",
       "      <th>1</th>\n",
       "      <td>1</td>\n",
       "      <td>4</td>\n",
       "      <td>583</td>\n",
       "      <td>13000000.0</td>\n",
       "      <td>71079915.0</td>\n",
       "      <td>32717.0</td>\n",
       "      <td>100.0</td>\n",
       "      <td>7.2</td>\n",
       "      <td>91415.0</td>\n",
       "    </tr>\n",
       "    <tr>\n",
       "      <th>2</th>\n",
       "      <td>3</td>\n",
       "      <td>15</td>\n",
       "      <td>63</td>\n",
       "      <td>14000000.0</td>\n",
       "      <td>161001698.0</td>\n",
       "      <td>32862.0</td>\n",
       "      <td>145.0</td>\n",
       "      <td>7.2</td>\n",
       "      <td>91415.0</td>\n",
       "    </tr>\n",
       "    <tr>\n",
       "      <th>3</th>\n",
       "      <td>1</td>\n",
       "      <td>5</td>\n",
       "      <td>155</td>\n",
       "      <td>15000000.0</td>\n",
       "      <td>84431625.0</td>\n",
       "      <td>32619.0</td>\n",
       "      <td>107.0</td>\n",
       "      <td>7.5</td>\n",
       "      <td>101702.0</td>\n",
       "    </tr>\n",
       "    <tr>\n",
       "      <th>4</th>\n",
       "      <td>1</td>\n",
       "      <td>6</td>\n",
       "      <td>586</td>\n",
       "      <td>15000000.0</td>\n",
       "      <td>79258538.0</td>\n",
       "      <td>32736.0</td>\n",
       "      <td>100.0</td>\n",
       "      <td>7.0</td>\n",
       "      <td>77659.0</td>\n",
       "    </tr>\n",
       "    <tr>\n",
       "      <th>...</th>\n",
       "      <td>...</td>\n",
       "      <td>...</td>\n",
       "      <td>...</td>\n",
       "      <td>...</td>\n",
       "      <td>...</td>\n",
       "      <td>...</td>\n",
       "      <td>...</td>\n",
       "      <td>...</td>\n",
       "      <td>...</td>\n",
       "    </tr>\n",
       "    <tr>\n",
       "      <th>629</th>\n",
       "      <td>2</td>\n",
       "      <td>0</td>\n",
       "      <td>318</td>\n",
       "      <td>250000000.0</td>\n",
       "      <td>765199095.0</td>\n",
       "      <td>44477.0</td>\n",
       "      <td>163.0</td>\n",
       "      <td>7.3</td>\n",
       "      <td>323556.0</td>\n",
       "    </tr>\n",
       "    <tr>\n",
       "      <th>630</th>\n",
       "      <td>2</td>\n",
       "      <td>10</td>\n",
       "      <td>624</td>\n",
       "      <td>55000000.0</td>\n",
       "      <td>106457.0</td>\n",
       "      <td>44512.0</td>\n",
       "      <td>115.0</td>\n",
       "      <td>7.5</td>\n",
       "      <td>82101.0</td>\n",
       "    </tr>\n",
       "    <tr>\n",
       "      <th>631</th>\n",
       "      <td>2</td>\n",
       "      <td>0</td>\n",
       "      <td>594</td>\n",
       "      <td>110000000.0</td>\n",
       "      <td>212500000.0</td>\n",
       "      <td>44470.0</td>\n",
       "      <td>157.0</td>\n",
       "      <td>6.0</td>\n",
       "      <td>180165.0</td>\n",
       "    </tr>\n",
       "    <tr>\n",
       "      <th>632</th>\n",
       "      <td>2</td>\n",
       "      <td>3</td>\n",
       "      <td>338</td>\n",
       "      <td>17000000.0</td>\n",
       "      <td>115400000.0</td>\n",
       "      <td>41187.0</td>\n",
       "      <td>112.0</td>\n",
       "      <td>4.4</td>\n",
       "      <td>276.0</td>\n",
       "    </tr>\n",
       "    <tr>\n",
       "      <th>633</th>\n",
       "      <td>2</td>\n",
       "      <td>3</td>\n",
       "      <td>378</td>\n",
       "      <td>20000000.0</td>\n",
       "      <td>57200000.0</td>\n",
       "      <td>38793.0</td>\n",
       "      <td>105.0</td>\n",
       "      <td>4.5</td>\n",
       "      <td>242.0</td>\n",
       "    </tr>\n",
       "  </tbody>\n",
       "</table>\n",
       "<p>626 rows × 9 columns</p>\n",
       "</div>"
      ],
      "text/plain": [
       "     MPAA_Rating  genre  title       Budget        Gross  release_date  \\\n",
       "0              1      3    129    7500000.0  145793296.0       32855.0   \n",
       "1              1      4    583   13000000.0   71079915.0       32717.0   \n",
       "2              3     15     63   14000000.0  161001698.0       32862.0   \n",
       "3              1      5    155   15000000.0   84431625.0       32619.0   \n",
       "4              1      6    586   15000000.0   79258538.0       32736.0   \n",
       "..           ...    ...    ...          ...          ...           ...   \n",
       "629            2      0    318  250000000.0  765199095.0       44477.0   \n",
       "630            2     10    624   55000000.0     106457.0       44512.0   \n",
       "631            2      0    594  110000000.0  212500000.0       44470.0   \n",
       "632            2      3    338   17000000.0  115400000.0       41187.0   \n",
       "633            2      3    378   20000000.0   57200000.0       38793.0   \n",
       "\n",
       "     runtime  rating  rating_count  \n",
       "0       99.0     7.4       91075.0  \n",
       "1      100.0     7.2       91415.0  \n",
       "2      145.0     7.2       91415.0  \n",
       "3      107.0     7.5      101702.0  \n",
       "4      100.0     7.0       77659.0  \n",
       "..       ...     ...           ...  \n",
       "629    163.0     7.3      323556.0  \n",
       "630    115.0     7.5       82101.0  \n",
       "631    157.0     6.0      180165.0  \n",
       "632    112.0     4.4         276.0  \n",
       "633    105.0     4.5         242.0  \n",
       "\n",
       "[626 rows x 9 columns]"
      ]
     },
     "execution_count": 27,
     "metadata": {},
     "output_type": "execute_result"
    }
   ],
   "source": [
    "data"
   ]
  },
  {
   "cell_type": "code",
   "execution_count": 29,
   "metadata": {},
   "outputs": [
    {
     "name": "stdout",
     "output_type": "stream",
     "text": [
      "     title       Budget        Gross  release_date  runtime  rating  \\\n",
      "0      129    7500000.0  145793296.0       32855.0     99.0     7.4   \n",
      "1      583   13000000.0   71079915.0       32717.0    100.0     7.2   \n",
      "2       63   14000000.0  161001698.0       32862.0    145.0     7.2   \n",
      "3      155   15000000.0   84431625.0       32619.0    107.0     7.5   \n",
      "4      586   15000000.0   79258538.0       32736.0    100.0     7.0   \n",
      "..     ...          ...          ...           ...      ...     ...   \n",
      "629    318  250000000.0  765199095.0       44477.0    163.0     7.3   \n",
      "630    624   55000000.0     106457.0       44512.0    115.0     7.5   \n",
      "631    594  110000000.0  212500000.0       44470.0    157.0     6.0   \n",
      "632    338   17000000.0  115400000.0       41187.0    112.0     4.4   \n",
      "633    378   20000000.0   57200000.0       38793.0    105.0     4.5   \n",
      "\n",
      "     rating_count  mpaa_0  mpaa_1  mpaa_2  ...  genre_7  genre_8  genre_9  \\\n",
      "0         91075.0   False    True   False  ...    False    False    False   \n",
      "1         91415.0   False    True   False  ...    False    False    False   \n",
      "2         91415.0   False   False   False  ...    False    False    False   \n",
      "3        101702.0   False    True   False  ...    False    False    False   \n",
      "4         77659.0   False    True   False  ...    False    False    False   \n",
      "..            ...     ...     ...     ...  ...      ...      ...      ...   \n",
      "629      323556.0   False   False    True  ...    False    False    False   \n",
      "630       82101.0   False   False    True  ...    False    False    False   \n",
      "631      180165.0   False   False    True  ...    False    False    False   \n",
      "632         276.0   False   False    True  ...    False    False    False   \n",
      "633         242.0   False   False    True  ...    False    False    False   \n",
      "\n",
      "     genre_10  genre_11  genre_12  genre_13  genre_14  genre_15  genre_16  \n",
      "0       False     False     False     False     False     False     False  \n",
      "1       False     False     False     False     False     False     False  \n",
      "2       False     False     False     False     False      True     False  \n",
      "3       False     False     False     False     False     False     False  \n",
      "4       False     False     False     False     False     False     False  \n",
      "..        ...       ...       ...       ...       ...       ...       ...  \n",
      "629     False     False     False     False     False     False     False  \n",
      "630      True     False     False     False     False     False     False  \n",
      "631     False     False     False     False     False     False     False  \n",
      "632     False     False     False     False     False     False     False  \n",
      "633     False     False     False     False     False     False     False  \n",
      "\n",
      "[626 rows x 28 columns]\n"
     ]
    }
   ],
   "source": [
    "# Eseguire la codifica one-hot della colonna 'mpaa'\n",
    "df_encoded = pd.get_dummies(data, columns=[\"MPAA_Rating\"], prefix=\"mpaa\")\n",
    "df_encoded = pd.get_dummies(df_encoded, columns=[\"genre\"], prefix=\"genre\")\n",
    "# Visualizzare il DataFrame codificato\n",
    "print(df_encoded)"
   ]
  },
  {
   "cell_type": "markdown",
   "metadata": {},
   "source": [
    "1. Split your data into features (independent variables) and the target variable (Gross)\n"
   ]
  },
  {
   "cell_type": "code",
   "execution_count": 31,
   "metadata": {},
   "outputs": [],
   "source": [
    "X = df_encoded.drop(\"Gross\", axis=1)  # Features (indipendent variables)\n",
    "X = X.drop(columns=\"title\")\n",
    "y = df_encoded[\"Gross\"]  # Target variable (dipendent variable)\n",
    "# X[\"bias\"] = 1"
   ]
  },
  {
   "cell_type": "code",
   "execution_count": 32,
   "metadata": {},
   "outputs": [],
   "source": [
    "# Initialize the scaler\n",
    "scaler = StandardScaler()\n",
    "\n",
    "# Fit the scaler to your feature matrix and transform it\n",
    "X_scaled = scaler.fit_transform(X)"
   ]
  },
  {
   "cell_type": "markdown",
   "metadata": {},
   "source": [
    "2. Define a range of values for the regularization parameter λ (alpha) that you want to test.\n",
    "\n",
    "These values were decided by trying different combinations of them and how the plots were\n"
   ]
  },
  {
   "cell_type": "code",
   "execution_count": 33,
   "metadata": {},
   "outputs": [],
   "source": [
    "lambdas = np.arange(0, 500, 10, dtype=\"float\")"
   ]
  },
  {
   "cell_type": "markdown",
   "metadata": {},
   "source": [
    "3. Perform 10-fold cross-validation with Ridge regression for each value of λ\n"
   ]
  },
  {
   "cell_type": "code",
   "execution_count": 14,
   "metadata": {},
   "outputs": [],
   "source": [
    "from sklearn.metrics import confusion_matrix\n",
    "from sklearn.model_selection import cross_val_predict\n",
    "from sklearn.metrics import accuracy_score\n",
    "from sklearn.metrics import r2_score"
   ]
  },
  {
   "cell_type": "code",
   "execution_count": 34,
   "metadata": {},
   "outputs": [
    {
     "name": "stderr",
     "output_type": "stream",
     "text": [
      "C:\\Users\\Dell\\AppData\\Local\\Packages\\PythonSoftwareFoundation.Python.3.11_qbz5n2kfra8p0\\LocalCache\\local-packages\\Python311\\site-packages\\sklearn\\linear_model\\_ridge.py:200: LinAlgWarning: Ill-conditioned matrix (rcond=7.8887e-17): result may not be accurate.\n",
      "  return linalg.solve(A, Xy, assume_a=\"pos\", overwrite_a=True).T\n",
      "C:\\Users\\Dell\\AppData\\Local\\Packages\\PythonSoftwareFoundation.Python.3.11_qbz5n2kfra8p0\\LocalCache\\local-packages\\Python311\\site-packages\\sklearn\\linear_model\\_ridge.py:200: LinAlgWarning: Ill-conditioned matrix (rcond=3.29178e-17): result may not be accurate.\n",
      "  return linalg.solve(A, Xy, assume_a=\"pos\", overwrite_a=True).T\n",
      "C:\\Users\\Dell\\AppData\\Local\\Packages\\PythonSoftwareFoundation.Python.3.11_qbz5n2kfra8p0\\LocalCache\\local-packages\\Python311\\site-packages\\sklearn\\linear_model\\_ridge.py:200: LinAlgWarning: Ill-conditioned matrix (rcond=2.22545e-17): result may not be accurate.\n",
      "  return linalg.solve(A, Xy, assume_a=\"pos\", overwrite_a=True).T\n",
      "C:\\Users\\Dell\\AppData\\Local\\Packages\\PythonSoftwareFoundation.Python.3.11_qbz5n2kfra8p0\\LocalCache\\local-packages\\Python311\\site-packages\\sklearn\\linear_model\\_ridge.py:200: LinAlgWarning: Ill-conditioned matrix (rcond=7.8887e-17): result may not be accurate.\n",
      "  return linalg.solve(A, Xy, assume_a=\"pos\", overwrite_a=True).T\n",
      "C:\\Users\\Dell\\AppData\\Local\\Packages\\PythonSoftwareFoundation.Python.3.11_qbz5n2kfra8p0\\LocalCache\\local-packages\\Python311\\site-packages\\sklearn\\linear_model\\_ridge.py:200: LinAlgWarning: Ill-conditioned matrix (rcond=3.29178e-17): result may not be accurate.\n",
      "  return linalg.solve(A, Xy, assume_a=\"pos\", overwrite_a=True).T\n",
      "C:\\Users\\Dell\\AppData\\Local\\Packages\\PythonSoftwareFoundation.Python.3.11_qbz5n2kfra8p0\\LocalCache\\local-packages\\Python311\\site-packages\\sklearn\\linear_model\\_ridge.py:200: LinAlgWarning: Ill-conditioned matrix (rcond=2.22545e-17): result may not be accurate.\n",
      "  return linalg.solve(A, Xy, assume_a=\"pos\", overwrite_a=True).T\n"
     ]
    },
    {
     "name": "stdout",
     "output_type": "stream",
     "text": [
      "-1.0837257659322276e+25\n",
      "0.5403960112787191\n",
      "0.5417054688412983\n",
      "0.5426664802334955\n",
      "0.5433414890919347\n",
      "0.5437785511028883\n",
      "0.5440152610530906\n",
      "0.5440814672927778\n",
      "0.544001186661202\n",
      "0.5437939802378277\n",
      "0.5434759581236153\n",
      "0.5430605243271456\n",
      "0.5425589365641528\n",
      "0.5419807322608992\n",
      "0.5413340565036557\n",
      "0.5406259172153873\n",
      "0.5398623856882356\n",
      "0.5390487556372496\n",
      "0.5381896704495301\n",
      "0.5372892258157501\n",
      "0.5363510531380857\n",
      "0.5353783878018845\n",
      "0.5343741254361507\n",
      "0.5333408685724934\n",
      "0.5322809655753732\n",
      "0.5311965433102478\n",
      "0.530089534706284\n",
      "0.5289617021320413\n",
      "0.52781465731802\n",
      "0.5266498784160947\n",
      "0.5254687246729424\n",
      "0.5242724491053946\n",
      "0.5230622094947925\n",
      "0.521839077960824\n",
      "0.5206040493298443\n",
      "0.5193580484759672\n",
      "0.5181019367834152\n",
      "0.5168365178543293\n",
      "0.5155625425663319\n",
      "0.5142807135677803\n",
      "0.512991689285111\n",
      "0.5116960875054746\n",
      "0.5103944885885128\n",
      "0.5090874383533246\n",
      "0.50777545068013\n",
      "0.5064590098606193\n",
      "0.5051385727263307\n",
      "0.5038145705804519\n",
      "0.5024874109550919\n",
      "0.5011574792132156\n",
      "best error = 1, best lambda = None\n"
     ]
    }
   ],
   "source": [
    "errors = []\n",
    "\n",
    "best_error = 1\n",
    "best_lambda = None\n",
    "\n",
    "for lambda_i in lambdas:\n",
    "    model = Ridge(alpha=lambda_i)\n",
    "    # 10 fold cross validation\n",
    "    scores = cross_val_predict(model, X_scaled, y, cv=10)\n",
    "    mean_score = scores.mean()\n",
    "    # generalization error for lambda_i\n",
    "    gen_err = 1 - mean_score\n",
    "    results[lambda_i] = gen_err\n",
    "    errors.append(gen_err)\n",
    "\n",
    "    if gen_err < best_error:\n",
    "        best_error = gen_err  # update the lowest generalization error\n",
    "\n",
    "        best_lambda = lambda_i  # update the best lambda\n",
    "for lambda_i in lambdas:\n",
    "    model = Ridge(alpha=lambda_i)\n",
    "    # 10 fold cross validation\n",
    "    scores = cross_val_predict(model, X_scaled, y, cv=10)\n",
    "    # print(scores)\n",
    "    # mean_score = scores.mean()\n",
    "    # generalization error for lambda_i\n",
    "    # gen_err = 1 - mean_score\n",
    "    # errors.append(gen_err)\n",
    "    # if gen_err < best_error:\n",
    "    #     best_error = gen_err  # update the lowest generalization error\n",
    "\n",
    "    #     best_lambda = lambda_i  # update the best lambda\n",
    "    # Calcola il numero di osservazioni misclassificate\n",
    "    y_pred = cross_val_predict(model, X_scaled, y, cv=10)  # Previsioni del modello\n",
    "    r_2 = r2_score(y, y_pred)\n",
    "\n",
    "    # number of misclassified observations\n",
    "    errors.append(r_2)\n",
    "    print(r_2)\n",
    "    # if gen_err_lambda_i < best_error_lambda_i:\n",
    "    #     best_error_lambda_i = gen_err_lambda_i  # update the lowest generalization error for the current outer fold\n",
    "    #     best_lambda_i = lambda_i  # update the best lambda for the current outer fold\n",
    "\n",
    "\n",
    "print(f\"best error = {best_error}, best lambda = {best_lambda}\")"
   ]
  },
  {
   "cell_type": "code",
   "execution_count": 44,
   "metadata": {},
   "outputs": [],
   "source": [
    "from sklearn.model_selection import train_test_split\n",
    "\n",
    "X_train, X_test, y_train, y_test = train_test_split(\n",
    "    X_scaled, y, test_size=0.3, random_state=0\n",
    ")"
   ]
  },
  {
   "cell_type": "code",
   "execution_count": 50,
   "metadata": {},
   "outputs": [
    {
     "data": {
      "text/html": [
       "<style>#sk-container-id-1 {color: black;}#sk-container-id-1 pre{padding: 0;}#sk-container-id-1 div.sk-toggleable {background-color: white;}#sk-container-id-1 label.sk-toggleable__label {cursor: pointer;display: block;width: 100%;margin-bottom: 0;padding: 0.3em;box-sizing: border-box;text-align: center;}#sk-container-id-1 label.sk-toggleable__label-arrow:before {content: \"▸\";float: left;margin-right: 0.25em;color: #696969;}#sk-container-id-1 label.sk-toggleable__label-arrow:hover:before {color: black;}#sk-container-id-1 div.sk-estimator:hover label.sk-toggleable__label-arrow:before {color: black;}#sk-container-id-1 div.sk-toggleable__content {max-height: 0;max-width: 0;overflow: hidden;text-align: left;background-color: #f0f8ff;}#sk-container-id-1 div.sk-toggleable__content pre {margin: 0.2em;color: black;border-radius: 0.25em;background-color: #f0f8ff;}#sk-container-id-1 input.sk-toggleable__control:checked~div.sk-toggleable__content {max-height: 200px;max-width: 100%;overflow: auto;}#sk-container-id-1 input.sk-toggleable__control:checked~label.sk-toggleable__label-arrow:before {content: \"▾\";}#sk-container-id-1 div.sk-estimator input.sk-toggleable__control:checked~label.sk-toggleable__label {background-color: #d4ebff;}#sk-container-id-1 div.sk-label input.sk-toggleable__control:checked~label.sk-toggleable__label {background-color: #d4ebff;}#sk-container-id-1 input.sk-hidden--visually {border: 0;clip: rect(1px 1px 1px 1px);clip: rect(1px, 1px, 1px, 1px);height: 1px;margin: -1px;overflow: hidden;padding: 0;position: absolute;width: 1px;}#sk-container-id-1 div.sk-estimator {font-family: monospace;background-color: #f0f8ff;border: 1px dotted black;border-radius: 0.25em;box-sizing: border-box;margin-bottom: 0.5em;}#sk-container-id-1 div.sk-estimator:hover {background-color: #d4ebff;}#sk-container-id-1 div.sk-parallel-item::after {content: \"\";width: 100%;border-bottom: 1px solid gray;flex-grow: 1;}#sk-container-id-1 div.sk-label:hover label.sk-toggleable__label {background-color: #d4ebff;}#sk-container-id-1 div.sk-serial::before {content: \"\";position: absolute;border-left: 1px solid gray;box-sizing: border-box;top: 0;bottom: 0;left: 50%;z-index: 0;}#sk-container-id-1 div.sk-serial {display: flex;flex-direction: column;align-items: center;background-color: white;padding-right: 0.2em;padding-left: 0.2em;position: relative;}#sk-container-id-1 div.sk-item {position: relative;z-index: 1;}#sk-container-id-1 div.sk-parallel {display: flex;align-items: stretch;justify-content: center;background-color: white;position: relative;}#sk-container-id-1 div.sk-item::before, #sk-container-id-1 div.sk-parallel-item::before {content: \"\";position: absolute;border-left: 1px solid gray;box-sizing: border-box;top: 0;bottom: 0;left: 50%;z-index: -1;}#sk-container-id-1 div.sk-parallel-item {display: flex;flex-direction: column;z-index: 1;position: relative;background-color: white;}#sk-container-id-1 div.sk-parallel-item:first-child::after {align-self: flex-end;width: 50%;}#sk-container-id-1 div.sk-parallel-item:last-child::after {align-self: flex-start;width: 50%;}#sk-container-id-1 div.sk-parallel-item:only-child::after {width: 0;}#sk-container-id-1 div.sk-dashed-wrapped {border: 1px dashed gray;margin: 0 0.4em 0.5em 0.4em;box-sizing: border-box;padding-bottom: 0.4em;background-color: white;}#sk-container-id-1 div.sk-label label {font-family: monospace;font-weight: bold;display: inline-block;line-height: 1.2em;}#sk-container-id-1 div.sk-label-container {text-align: center;}#sk-container-id-1 div.sk-container {/* jupyter's `normalize.less` sets `[hidden] { display: none; }` but bootstrap.min.css set `[hidden] { display: none !important; }` so we also need the `!important` here to be able to override the default hidden behavior on the sphinx rendered scikit-learn.org. See: https://github.com/scikit-learn/scikit-learn/issues/21755 */display: inline-block !important;position: relative;}#sk-container-id-1 div.sk-text-repr-fallback {display: none;}</style><div id=\"sk-container-id-1\" class=\"sk-top-container\"><div class=\"sk-text-repr-fallback\"><pre>Ridge(alpha=160.0)</pre><b>In a Jupyter environment, please rerun this cell to show the HTML representation or trust the notebook. <br />On GitHub, the HTML representation is unable to render, please try loading this page with nbviewer.org.</b></div><div class=\"sk-container\" hidden><div class=\"sk-item\"><div class=\"sk-estimator sk-toggleable\"><input class=\"sk-toggleable__control sk-hidden--visually\" id=\"sk-estimator-id-1\" type=\"checkbox\" checked><label for=\"sk-estimator-id-1\" class=\"sk-toggleable__label sk-toggleable__label-arrow\">Ridge</label><div class=\"sk-toggleable__content\"><pre>Ridge(alpha=160.0)</pre></div></div></div></div></div>"
      ],
      "text/plain": [
       "Ridge(alpha=160.0)"
      ]
     },
     "execution_count": 50,
     "metadata": {},
     "output_type": "execute_result"
    }
   ],
   "source": [
    "from sklearn import svm\n",
    "\n",
    "clf = Ridge(alpha=best_lambda).fit(X_scaled, y)\n",
    "clf"
   ]
  },
  {
   "cell_type": "code",
   "execution_count": 51,
   "metadata": {},
   "outputs": [
    {
     "data": {
      "text/plain": [
       "0.5370952027842397"
      ]
     },
     "execution_count": 51,
     "metadata": {},
     "output_type": "execute_result"
    }
   ],
   "source": [
    "clf.score(X_test, y_test)"
   ]
  },
  {
   "cell_type": "code",
   "execution_count": 41,
   "metadata": {},
   "outputs": [
    {
     "data": {
      "text/plain": [
       "array([-2.69578907, -1.68882562, -0.19355839, -0.25002882,  0.18360376,\n",
       "        0.18464327,  0.06213476, -0.20775611, -0.54235585,  0.04021668])"
      ]
     },
     "execution_count": 41,
     "metadata": {},
     "output_type": "execute_result"
    }
   ],
   "source": [
    "scores"
   ]
  },
  {
   "cell_type": "code",
   "execution_count": 34,
   "metadata": {},
   "outputs": [
    {
     "data": {
      "image/png": "[encoded data removed]",
      "text/plain": [
       "<Figure size 1000x600 with 1 Axes>"
      ]
     },
     "metadata": {},
     "output_type": "display_data"
    }
   ],
   "source": [
    "# Create a plot of generalization error as a function of λ\n",
    "plt.figure(figsize=(10, 6))\n",
    "plt.semilogx(lambdas, errors, marker=\"o\", linestyle=\"-\")\n",
    "plt.title(\"Generalization Error as a Function of Lambda\")\n",
    "plt.xlabel(\"Lambda (log scale)\")\n",
    "plt.ylabel(\"Generalization Error\")\n",
    "plt.grid(True)\n",
    "plt.show()"
   ]
  },
  {
   "cell_type": "markdown",
   "metadata": {},
   "source": [
    "4. Find the λ that gives the lowest generalization error\n"
   ]
  },
  {
   "cell_type": "markdown",
   "metadata": {},
   "source": [
    "Values of coefficients are the weigths for each feature and intercept is the bias term\n",
    "$$y=(biasterm) + weigths*(features)$$\n"
   ]
  },
  {
   "cell_type": "code",
   "execution_count": 9,
   "metadata": {},
   "outputs": [],
   "source": [
    "# Create and train a Ridge regression model\n",
    "model = Ridge(alpha=best_lambda)  # Use the best_alpha value you've determined\n",
    "model.fit(X_scaled, y)  # X is your feature matrix, y is your target variable\n",
    "\n",
    "# Access the coefficients\n",
    "coefficients = model.coef_  # Coefficients (weights)\n",
    "intercept = model.intercept_  # Intercept (bias term)"
   ]
  },
  {
   "cell_type": "code",
   "execution_count": 10,
   "metadata": {},
   "outputs": [
    {
     "data": {
      "text/plain": [
       "array([-2.68033647e+07, -1.42442736e+07,  1.30938971e+08,  5.31093829e+07,\n",
       "        3.46004724e+07,  1.16913960e+07,  7.33797296e+07])"
      ]
     },
     "execution_count": 10,
     "metadata": {},
     "output_type": "execute_result"
    }
   ],
   "source": [
    "coefficients"
   ]
  },
  {
   "cell_type": "code",
   "execution_count": 11,
   "metadata": {},
   "outputs": [
    {
     "data": {
      "text/plain": [
       "435227473.55111825"
      ]
     },
     "execution_count": 11,
     "metadata": {},
     "output_type": "execute_result"
    }
   ],
   "source": [
    "intercept"
   ]
  },
  {
   "cell_type": "markdown",
   "metadata": {},
   "source": [
    "This is the plot as 14.2 in the book\n"
   ]
  },
  {
   "cell_type": "code",
   "execution_count": 12,
   "metadata": {},
   "outputs": [
    {
     "data": {
      "image/png": "[encoded data removed]",
      "text/plain": [
       "<Figure size 1000x600 with 1 Axes>"
      ]
     },
     "metadata": {},
     "output_type": "display_data"
    }
   ],
   "source": [
    "coefficients = []\n",
    "lambdas1 = np.arange(1, 100000, 20, dtype=float)\n",
    "\n",
    "for alpha in lambdas1:\n",
    "    # Create and fit a Ridge regression model\n",
    "    model = Ridge(alpha=alpha)\n",
    "    model.fit(X_scaled, y)  # Use your transformed data\n",
    "\n",
    "    # Get the coefficients for this λ\n",
    "    coef = model.coef_\n",
    "    coefficients.append(coef)\n",
    "\n",
    "# Convert coefficients to a NumPy array\n",
    "coefficients = np.array(coefficients)\n",
    "\n",
    "# Create a plot to visualize the coefficients\n",
    "plt.figure(figsize=(10, 6))\n",
    "for i in range(coefficients.shape[1]):\n",
    "    plt.semilogx(lambdas1, coefficients[:, i], label=f\"Feature {i} ({X.columns[i]})\")\n",
    "plt.title(\"Ridge Regression Coefficients as a Function of λ\")\n",
    "plt.xlabel(\"Regularization Parameter (λ)\")\n",
    "plt.ylabel(\"Coefficient Value (weights)\")\n",
    "plt.legend()\n",
    "plt.grid()\n",
    "plt.show()"
   ]
  },
  {
   "cell_type": "markdown",
   "metadata": {},
   "source": [
    "## Regression part b\n"
   ]
  },
  {
   "cell_type": "markdown",
   "metadata": {},
   "source": [
    "In this section, we will compare three models: the regularized\n",
    "linear regression model from the previous section, an artificial neural network (ANN) and a baseline.\n",
    "\n",
    "We are interested in two questions:\n",
    "\n",
    "- Is one model better than the other?\n",
    "- Is either model better than a trivial baseline?.\n",
    "\n",
    "We will attempt to answer\n",
    "these questions with two-level cross-validation.\n"
   ]
  },
  {
   "cell_type": "markdown",
   "metadata": {},
   "source": [
    "### 1 Implement two-level cross-validation\n",
    "\n",
    "(see algorithm 6 of the lecture notes). We will use 2-level cross-validation to compare the models with K1 = K2 = 10 folds.\n",
    "\n",
    "As a baseline model, we will apply a linear regression model with no features, i.e. it computes the mean of y on the training data, and use this value to predict y on the test data.\n",
    "\n",
    "Make sure you can fit an ANN model to the data.\n",
    "\n",
    "As complexity-controlling parameter for the ANN, we will use the number of hidden units5 h.\n",
    "Based on a few test-runs, select a reasonable range of values for h (which should include h = 1), and describe the range of values you will use for h and λ.\n"
   ]
  },
  {
   "cell_type": "markdown",
   "metadata": {},
   "source": [
    "The baseline model is a simple linear regression model that computes the mean of the target variable (y) on the training data and uses this mean value to predict y on the test data.\n"
   ]
  },
  {
   "cell_type": "code",
   "execution_count": 13,
   "metadata": {},
   "outputs": [],
   "source": [
    "import torch\n",
    "import toolbox_functions\n",
    "from sklearn import model_selection"
   ]
  },
  {
   "cell_type": "code",
   "execution_count": 14,
   "metadata": {},
   "outputs": [],
   "source": [
    "# Parameters for Neural Network\n",
    "n_hidden_units = 1\n",
    "n_replicates = 1  # number of networks trained in each k-fold\n",
    "max_iter = 10000\n",
    "N, M = X.shape\n",
    "\n",
    "\n",
    "def model():\n",
    "    return torch.nn.Sequential(\n",
    "        torch.nn.Linear(M, n_hidden_units),  # M features to n_hidden_units\n",
    "        torch.nn.Tanh(),  # 1st transfer function,\n",
    "        torch.nn.Linear(n_hidden_units, 1),  # n_hidden_units to 1 output neuron\n",
    "        # no final tranfer function, i.e. \"linear output\"\n",
    "    )\n",
    "\n",
    "\n",
    "loss_fn = torch.nn.MSELoss()"
   ]
  },
  {
   "cell_type": "code",
   "execution_count": 15,
   "metadata": {},
   "outputs": [
    {
     "name": "stdout",
     "output_type": "stream",
     "text": [
      "\n",
      "Crossvalidation fold: 1/10\n",
      "Baseline MSE: 1.4380800393496336e+17\n",
      "best error = 0.6658066062032819, best lambda = 136.0\n",
      "\n",
      "Crossvalidation fold: 2/10\n",
      "Baseline MSE: 7.084153319777284e+16\n",
      "best error = 0.6341769788136511, best lambda = 143.0\n",
      "\n",
      "Crossvalidation fold: 3/10\n",
      "Baseline MSE: 1.0988902839912518e+17\n",
      "best error = 0.6782475387240069, best lambda = 157.0\n",
      "\n",
      "Crossvalidation fold: 4/10\n",
      "Baseline MSE: 7.825253542125474e+16\n",
      "best error = 0.6831424324629112, best lambda = 150.0\n",
      "\n",
      "Crossvalidation fold: 5/10\n",
      "Baseline MSE: 6.346318145488119e+16\n",
      "best error = 0.660499689355105, best lambda = 182.0\n",
      "\n",
      "Crossvalidation fold: 6/10\n",
      "Baseline MSE: 1.7190419161088867e+17\n",
      "best error = 0.6185822295404305, best lambda = 152.0\n",
      "\n",
      "Crossvalidation fold: 7/10\n",
      "Baseline MSE: 1.1541300009163043e+17\n",
      "best error = 0.6746236714978036, best lambda = 151.0\n",
      "\n",
      "Crossvalidation fold: 8/10\n",
      "Baseline MSE: 1.946801032828448e+17\n",
      "best error = 0.6613183353801573, best lambda = 121.0\n",
      "\n",
      "Crossvalidation fold: 9/10\n",
      "Baseline MSE: 1.0105318378298698e+17\n",
      "best error = 0.6191438869359135, best lambda = 151.0\n",
      "\n",
      "Crossvalidation fold: 10/10\n",
      "Baseline MSE: 9.413489072484594e+16\n",
      "best error = 0.6757682025564051, best lambda = 157.0\n"
     ]
    }
   ],
   "source": [
    "# Define the number of folds for outer and inner cross-validation\n",
    "outer_folds = 10\n",
    "inner_folds = 10\n",
    "\n",
    "# Initialize objects for outer cross-validation\n",
    "outer_cv = model_selection.KFold(n_splits=outer_folds, shuffle=True, random_state=42)\n",
    "\n",
    "# List to store the scores of outer cross-validation\n",
    "outer_scores = []\n",
    "\n",
    "for k, (train_index, test_index) in enumerate(outer_cv.split(X_scaled)):\n",
    "    print(\"\\nCrossvalidation fold: {0}/{1}\".format(k + 1, outer_folds))\n",
    "\n",
    "    X_par = X_scaled[train_index]\n",
    "    y_par = y.to_numpy()[train_index]\n",
    "\n",
    "    X_test = X_scaled[test_index]\n",
    "    y_test = y.to_numpy()[test_index]\n",
    "\n",
    "    ## BASELINE NO LAMBDA NO FEATURES\n",
    "    # Calculate the mean of y in the training data\n",
    "    y_mean = np.mean(y_par)\n",
    "\n",
    "    # Create an array of predicted values using the mean\n",
    "    y_pred_baseline = np.full(y_test.shape, y_mean)\n",
    "\n",
    "    # Calculate the mean squared error (MSE) for the baseline model\n",
    "    mse_baseline = ((y_pred_baseline - y_test) ** 2).mean()\n",
    "\n",
    "    # Print or store the MSE for the baseline model\n",
    "    print(f\"Baseline MSE: {mse_baseline}\")\n",
    "\n",
    "    ## RIDGE REGRESSION\n",
    "    lambdas = np.arange(1, 200, 1, dtype=\"float\")\n",
    "\n",
    "    # errors contains generalization error for each lambda\n",
    "    errors_ridge = []\n",
    "    best_error_lambda_i = 1\n",
    "    best_lambda_i_ridge = None\n",
    "\n",
    "    # RIDGE REGRESSION AS BEFORE\n",
    "    for lambda_i in lambdas:\n",
    "        ridge_model = Ridge(alpha=lambda_i)\n",
    "\n",
    "        # 10 fold cross validation\n",
    "        scores = cross_val_score(ridge_model, X_par, y_par, cv=inner_folds)\n",
    "        mean_score = scores.mean()\n",
    "\n",
    "        # generalization error for lambda_i\n",
    "        gen_err_lambda_i_ridge = 1 - mean_score\n",
    "\n",
    "        errors_ridge.append(gen_err_lambda_i_ridge)\n",
    "\n",
    "        if gen_err_lambda_i_ridge < best_error_lambda_i:\n",
    "            best_error_lambda_i = (\n",
    "                gen_err_lambda_i_ridge  # update the lowest generalization error\n",
    "            )\n",
    "            best_lambda_i_ridge = lambda_i  # update the best lambda\n",
    "\n",
    "    # print(errors_ridge)\n",
    "    print(f\"best error = {best_error_lambda_i}, best lambda = {best_lambda_i_ridge}\")\n",
    "\n",
    "    # ## ANN\n",
    "    # # Some parameters for Neural Network are defined before the loop\n",
    "    # errors_NN = []\n",
    "    # # Convert training and test set for current CV fold, convert to tensors\n",
    "    # X_par_NN = torch.Tensor(X_par)\n",
    "    # y_par_NN = torch.Tensor(y_par)\n",
    "    # X_test_NN = torch.Tensor(X_test)\n",
    "    # y_test_NN = torch.Tensor(y_test)\n",
    "\n",
    "    # net, final_loss, learning_curve = toolbox_functions.train_neural_net(\n",
    "    #     model,\n",
    "    #     loss_fn,\n",
    "    #     X=X_par_NN,\n",
    "    #     y=y_par_NN,\n",
    "    #     n_replicates=n_replicates,\n",
    "    #     max_iter=max_iter,\n",
    "    # )\n",
    "\n",
    "    # # Determine estimated class labels for test set\n",
    "    # y_test_est = net(X_test_NN)\n",
    "\n",
    "    # # Determine errors and errors\n",
    "    # se = (y_test_est.float() - y_test.float()) ** 2  # squared error\n",
    "    # mse_NN = (sum(se).type(torch.float) / len(y_test)).data.numpy()  # mean\n",
    "    # errors_NN.append(mse_NN)  # store error rate for current CV fold\n",
    "    # print(\"\\n\\tBest loss: {}\\n\".format(final_loss))"
   ]
  },
  {
   "cell_type": "code",
   "execution_count": 16,
   "metadata": {},
   "outputs": [],
   "source": [
    "from sklearn.model_selection import train_test_split\n",
    "\n",
    "test_proportion = 0.3\n",
    "\n",
    "# Split your data into training and testing sets\n",
    "X_train, X_test, y_train, y_test = train_test_split(\n",
    "    X_scaled, y, test_size=test_proportion\n",
    ")"
   ]
  },
  {
   "cell_type": "code",
   "execution_count": 17,
   "metadata": {},
   "outputs": [],
   "source": [
    "from sklearn.linear_model import LinearRegression\n",
    "\n",
    "# Create the baseline model\n",
    "baseline_model = LinearRegression()\n",
    "\n",
    "# Fit the model to the mean of the training target variable\n",
    "baseline_model.fit(X_train, y_train)\n",
    "\n",
    "# Make predictions using the trained baseline model\n",
    "baseline_predictions = baseline_model.predict(X_test)"
   ]
  },
  {
   "cell_type": "markdown",
   "metadata": {},
   "source": [
    "For the ANN model, you need to set up a range of values for the number of hidden units (h) and the regularization parameter (λ).\n"
   ]
  },
  {
   "cell_type": "code",
   "execution_count": 18,
   "metadata": {},
   "outputs": [],
   "source": [
    "# Define a range of values for hidden units (h)\n",
    "hidden_units_range = [1, 10, 20, 30, 40, 50]\n",
    "\n",
    "# Define a range of values for the regularization parameter (λ)\n",
    "lambda_range = np.arange(1, 200, 1, dtype=float)"
   ]
  },
  {
   "cell_type": "markdown",
   "metadata": {},
   "source": []
  }
 ],
 "metadata": {
  "kernelspec": {
   "display_name": "Python 3",
   "language": "python",
   "name": "python3"
  },
  "language_info": {
   "codemirror_mode": {
    "name": "ipython",
    "version": 3
   },
   "file_extension": ".py",
   "mimetype": "text/x-python",
   "name": "python",
   "nbconvert_exporter": "python",
   "pygments_lexer": "ipython3",
   "version": "3.11.6"
  }
 },
 "nbformat": 4,
 "nbformat_minor": 2
}
