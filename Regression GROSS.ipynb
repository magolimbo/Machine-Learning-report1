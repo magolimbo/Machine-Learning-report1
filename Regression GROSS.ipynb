{
 "cells": [
  {
   "cell_type": "markdown",
   "metadata": {},
   "source": [
    "## Regression part a\n"
   ]
  },
  {
   "cell_type": "markdown",
   "metadata": {},
   "source": [
    "### 1:\n",
    "\n",
    "Explain what variable is predicted based on which other variables and what\n",
    "you hope to accomplish by the regression. Mention your feature transformation\n",
    "choices such as one-of-K coding. Since we will use regularization momentarily,\n",
    "apply a feature transformation to your data matrix X such that each column\n",
    "has mean 0 and standard deviation 1.\n"
   ]
  },
  {
   "cell_type": "code",
   "execution_count": 9,
   "metadata": {},
   "outputs": [],
   "source": [
    "import numpy as np\n",
    "import pandas as pd\n",
    "from sklearn.preprocessing import StandardScaler\n",
    "from sklearn.model_selection import KFold\n",
    "from sklearn.linear_model import Ridge\n",
    "import matplotlib.pyplot as plt\n",
    "from sklearn.model_selection import cross_val_predict, cross_val_score\n",
    "from sklearn.metrics import accuracy_score\n",
    "from sklearn.metrics import r2_score"
   ]
  },
  {
   "cell_type": "markdown",
   "metadata": {},
   "source": [
    "That's a line to take the dataset saved from another file\n"
   ]
  },
  {
   "cell_type": "code",
   "execution_count": 2,
   "metadata": {},
   "outputs": [],
   "source": [
    "%store -r data"
   ]
  },
  {
   "cell_type": "code",
   "execution_count": 22,
   "metadata": {},
   "outputs": [
    {
     "data": {
      "text/html": [
       "<div>\n",
       "<style scoped>\n",
       "    .dataframe tbody tr th:only-of-type {\n",
       "        vertical-align: middle;\n",
       "    }\n",
       "\n",
       "    .dataframe tbody tr th {\n",
       "        vertical-align: top;\n",
       "    }\n",
       "\n",
       "    .dataframe thead th {\n",
       "        text-align: right;\n",
       "    }\n",
       "</style>\n",
       "<table border=\"1\" class=\"dataframe\">\n",
       "  <thead>\n",
       "    <tr style=\"text-align: right;\">\n",
       "      <th></th>\n",
       "      <th>MPAA_Rating</th>\n",
       "      <th>genre</th>\n",
       "      <th>title</th>\n",
       "      <th>Budget</th>\n",
       "      <th>Gross</th>\n",
       "      <th>release_date</th>\n",
       "      <th>runtime</th>\n",
       "      <th>rating</th>\n",
       "      <th>rating_count</th>\n",
       "    </tr>\n",
       "  </thead>\n",
       "  <tbody>\n",
       "    <tr>\n",
       "      <th>0</th>\n",
       "      <td>1</td>\n",
       "      <td>3</td>\n",
       "      <td>129</td>\n",
       "      <td>7500000.0</td>\n",
       "      <td>145793296.0</td>\n",
       "      <td>32855.0</td>\n",
       "      <td>99.0</td>\n",
       "      <td>7.4</td>\n",
       "      <td>91075.0</td>\n",
       "    </tr>\n",
       "    <tr>\n",
       "      <th>1</th>\n",
       "      <td>1</td>\n",
       "      <td>4</td>\n",
       "      <td>583</td>\n",
       "      <td>13000000.0</td>\n",
       "      <td>71079915.0</td>\n",
       "      <td>32717.0</td>\n",
       "      <td>100.0</td>\n",
       "      <td>7.2</td>\n",
       "      <td>91415.0</td>\n",
       "    </tr>\n",
       "    <tr>\n",
       "      <th>2</th>\n",
       "      <td>3</td>\n",
       "      <td>15</td>\n",
       "      <td>63</td>\n",
       "      <td>14000000.0</td>\n",
       "      <td>161001698.0</td>\n",
       "      <td>32862.0</td>\n",
       "      <td>145.0</td>\n",
       "      <td>7.2</td>\n",
       "      <td>91415.0</td>\n",
       "    </tr>\n",
       "    <tr>\n",
       "      <th>3</th>\n",
       "      <td>1</td>\n",
       "      <td>5</td>\n",
       "      <td>155</td>\n",
       "      <td>15000000.0</td>\n",
       "      <td>84431625.0</td>\n",
       "      <td>32619.0</td>\n",
       "      <td>107.0</td>\n",
       "      <td>7.5</td>\n",
       "      <td>101702.0</td>\n",
       "    </tr>\n",
       "    <tr>\n",
       "      <th>4</th>\n",
       "      <td>1</td>\n",
       "      <td>6</td>\n",
       "      <td>586</td>\n",
       "      <td>15000000.0</td>\n",
       "      <td>79258538.0</td>\n",
       "      <td>32736.0</td>\n",
       "      <td>100.0</td>\n",
       "      <td>7.0</td>\n",
       "      <td>77659.0</td>\n",
       "    </tr>\n",
       "    <tr>\n",
       "      <th>...</th>\n",
       "      <td>...</td>\n",
       "      <td>...</td>\n",
       "      <td>...</td>\n",
       "      <td>...</td>\n",
       "      <td>...</td>\n",
       "      <td>...</td>\n",
       "      <td>...</td>\n",
       "      <td>...</td>\n",
       "      <td>...</td>\n",
       "    </tr>\n",
       "    <tr>\n",
       "      <th>629</th>\n",
       "      <td>2</td>\n",
       "      <td>0</td>\n",
       "      <td>318</td>\n",
       "      <td>250000000.0</td>\n",
       "      <td>765199095.0</td>\n",
       "      <td>44477.0</td>\n",
       "      <td>163.0</td>\n",
       "      <td>7.3</td>\n",
       "      <td>323556.0</td>\n",
       "    </tr>\n",
       "    <tr>\n",
       "      <th>630</th>\n",
       "      <td>2</td>\n",
       "      <td>10</td>\n",
       "      <td>624</td>\n",
       "      <td>55000000.0</td>\n",
       "      <td>106457.0</td>\n",
       "      <td>44512.0</td>\n",
       "      <td>115.0</td>\n",
       "      <td>7.5</td>\n",
       "      <td>82101.0</td>\n",
       "    </tr>\n",
       "    <tr>\n",
       "      <th>631</th>\n",
       "      <td>2</td>\n",
       "      <td>0</td>\n",
       "      <td>594</td>\n",
       "      <td>110000000.0</td>\n",
       "      <td>212500000.0</td>\n",
       "      <td>44470.0</td>\n",
       "      <td>157.0</td>\n",
       "      <td>6.0</td>\n",
       "      <td>180165.0</td>\n",
       "    </tr>\n",
       "    <tr>\n",
       "      <th>632</th>\n",
       "      <td>2</td>\n",
       "      <td>3</td>\n",
       "      <td>338</td>\n",
       "      <td>17000000.0</td>\n",
       "      <td>115400000.0</td>\n",
       "      <td>41187.0</td>\n",
       "      <td>112.0</td>\n",
       "      <td>4.4</td>\n",
       "      <td>276.0</td>\n",
       "    </tr>\n",
       "    <tr>\n",
       "      <th>633</th>\n",
       "      <td>2</td>\n",
       "      <td>3</td>\n",
       "      <td>378</td>\n",
       "      <td>20000000.0</td>\n",
       "      <td>57200000.0</td>\n",
       "      <td>38793.0</td>\n",
       "      <td>105.0</td>\n",
       "      <td>4.5</td>\n",
       "      <td>242.0</td>\n",
       "    </tr>\n",
       "  </tbody>\n",
       "</table>\n",
       "<p>626 rows × 9 columns</p>\n",
       "</div>"
      ],
      "text/plain": [
       "     MPAA_Rating  genre  title       Budget        Gross  release_date  \\\n",
       "0              1      3    129    7500000.0  145793296.0       32855.0   \n",
       "1              1      4    583   13000000.0   71079915.0       32717.0   \n",
       "2              3     15     63   14000000.0  161001698.0       32862.0   \n",
       "3              1      5    155   15000000.0   84431625.0       32619.0   \n",
       "4              1      6    586   15000000.0   79258538.0       32736.0   \n",
       "..           ...    ...    ...          ...          ...           ...   \n",
       "629            2      0    318  250000000.0  765199095.0       44477.0   \n",
       "630            2     10    624   55000000.0     106457.0       44512.0   \n",
       "631            2      0    594  110000000.0  212500000.0       44470.0   \n",
       "632            2      3    338   17000000.0  115400000.0       41187.0   \n",
       "633            2      3    378   20000000.0   57200000.0       38793.0   \n",
       "\n",
       "     runtime  rating  rating_count  \n",
       "0       99.0     7.4       91075.0  \n",
       "1      100.0     7.2       91415.0  \n",
       "2      145.0     7.2       91415.0  \n",
       "3      107.0     7.5      101702.0  \n",
       "4      100.0     7.0       77659.0  \n",
       "..       ...     ...           ...  \n",
       "629    163.0     7.3      323556.0  \n",
       "630    115.0     7.5       82101.0  \n",
       "631    157.0     6.0      180165.0  \n",
       "632    112.0     4.4         276.0  \n",
       "633    105.0     4.5         242.0  \n",
       "\n",
       "[626 rows x 9 columns]"
      ]
     },
     "execution_count": 22,
     "metadata": {},
     "output_type": "execute_result"
    }
   ],
   "source": [
    "data"
   ]
  },
  {
   "cell_type": "code",
   "execution_count": 4,
   "metadata": {},
   "outputs": [
    {
     "name": "stdout",
     "output_type": "stream",
     "text": [
      "     title       Budget        Gross  release_date  runtime  rating  \\\n",
      "0      129    7500000.0  145793296.0       32855.0     99.0     7.4   \n",
      "1      583   13000000.0   71079915.0       32717.0    100.0     7.2   \n",
      "2       63   14000000.0  161001698.0       32862.0    145.0     7.2   \n",
      "3      155   15000000.0   84431625.0       32619.0    107.0     7.5   \n",
      "4      586   15000000.0   79258538.0       32736.0    100.0     7.0   \n",
      "..     ...          ...          ...           ...      ...     ...   \n",
      "629    318  250000000.0  765199095.0       44477.0    163.0     7.3   \n",
      "630    624   55000000.0     106457.0       44512.0    115.0     7.5   \n",
      "631    594  110000000.0  212500000.0       44470.0    157.0     6.0   \n",
      "632    338   17000000.0  115400000.0       41187.0    112.0     4.4   \n",
      "633    378   20000000.0   57200000.0       38793.0    105.0     4.5   \n",
      "\n",
      "     rating_count  mpaa_0  mpaa_1  mpaa_2  ...  genre_7  genre_8  genre_9  \\\n",
      "0         91075.0   False    True   False  ...    False    False    False   \n",
      "1         91415.0   False    True   False  ...    False    False    False   \n",
      "2         91415.0   False   False   False  ...    False    False    False   \n",
      "3        101702.0   False    True   False  ...    False    False    False   \n",
      "4         77659.0   False    True   False  ...    False    False    False   \n",
      "..            ...     ...     ...     ...  ...      ...      ...      ...   \n",
      "629      323556.0   False   False    True  ...    False    False    False   \n",
      "630       82101.0   False   False    True  ...    False    False    False   \n",
      "631      180165.0   False   False    True  ...    False    False    False   \n",
      "632         276.0   False   False    True  ...    False    False    False   \n",
      "633         242.0   False   False    True  ...    False    False    False   \n",
      "\n",
      "     genre_10  genre_11  genre_12  genre_13  genre_14  genre_15  genre_16  \n",
      "0       False     False     False     False     False     False     False  \n",
      "1       False     False     False     False     False     False     False  \n",
      "2       False     False     False     False     False      True     False  \n",
      "3       False     False     False     False     False     False     False  \n",
      "4       False     False     False     False     False     False     False  \n",
      "..        ...       ...       ...       ...       ...       ...       ...  \n",
      "629     False     False     False     False     False     False     False  \n",
      "630      True     False     False     False     False     False     False  \n",
      "631     False     False     False     False     False     False     False  \n",
      "632     False     False     False     False     False     False     False  \n",
      "633     False     False     False     False     False     False     False  \n",
      "\n",
      "[626 rows x 28 columns]\n"
     ]
    }
   ],
   "source": [
    "# # Eseguire la codifica one-hot della colonna 'mpaa'\n",
    "# df_encoded = pd.get_dummies(data, columns=[\"MPAA_Rating\"], prefix=\"mpaa\")\n",
    "# df_encoded = pd.get_dummies(df_encoded, columns=[\"genre\"], prefix=\"genre\")\n",
    "# # Visualizzare il DataFrame codificato\n",
    "# print(df_encoded)"
   ]
  },
  {
   "cell_type": "markdown",
   "metadata": {},
   "source": [
    "1. Split your data into features (independent variables) and the target variable (Gross)\n"
   ]
  },
  {
   "cell_type": "code",
   "execution_count": 29,
   "metadata": {},
   "outputs": [],
   "source": [
    "X = data.drop(\"Gross\", axis=1)  # Features (indipendent variables)\n",
    "X = X.drop(columns=\"title\")\n",
    "y = data[\"Gross\"]  # Target variable (dipendent variable)\n",
    "# X[\"bias\"] = 1"
   ]
  },
  {
   "cell_type": "code",
   "execution_count": 30,
   "metadata": {},
   "outputs": [],
   "source": [
    "# Initialize the scaler\n",
    "scaler = StandardScaler()\n",
    "\n",
    "# Fit the scaler to your feature matrix and transform it\n",
    "X_scaled = scaler.fit_transform(X)"
   ]
  },
  {
   "cell_type": "markdown",
   "metadata": {},
   "source": [
    "2. Define a range of values for the regularization parameter λ (alpha) that you want to test.\n",
    "\n",
    "These values were decided by trying different combinations of them and how the plots were\n"
   ]
  },
  {
   "cell_type": "code",
   "execution_count": 25,
   "metadata": {},
   "outputs": [],
   "source": [
    "lambdas = np.arange(0, 300, 1, dtype=\"float\")"
   ]
  },
  {
   "cell_type": "code",
   "execution_count": 31,
   "metadata": {},
   "outputs": [
    {
     "data": {
      "text/html": [
       "<div>\n",
       "<style scoped>\n",
       "    .dataframe tbody tr th:only-of-type {\n",
       "        vertical-align: middle;\n",
       "    }\n",
       "\n",
       "    .dataframe tbody tr th {\n",
       "        vertical-align: top;\n",
       "    }\n",
       "\n",
       "    .dataframe thead th {\n",
       "        text-align: right;\n",
       "    }\n",
       "</style>\n",
       "<table border=\"1\" class=\"dataframe\">\n",
       "  <thead>\n",
       "    <tr style=\"text-align: right;\">\n",
       "      <th></th>\n",
       "      <th>MPAA_Rating</th>\n",
       "      <th>genre</th>\n",
       "      <th>Budget</th>\n",
       "      <th>release_date</th>\n",
       "      <th>runtime</th>\n",
       "      <th>rating</th>\n",
       "      <th>rating_count</th>\n",
       "    </tr>\n",
       "  </thead>\n",
       "  <tbody>\n",
       "    <tr>\n",
       "      <th>0</th>\n",
       "      <td>1</td>\n",
       "      <td>3</td>\n",
       "      <td>7500000.0</td>\n",
       "      <td>32855.0</td>\n",
       "      <td>99.0</td>\n",
       "      <td>7.4</td>\n",
       "      <td>91075.0</td>\n",
       "    </tr>\n",
       "    <tr>\n",
       "      <th>1</th>\n",
       "      <td>1</td>\n",
       "      <td>4</td>\n",
       "      <td>13000000.0</td>\n",
       "      <td>32717.0</td>\n",
       "      <td>100.0</td>\n",
       "      <td>7.2</td>\n",
       "      <td>91415.0</td>\n",
       "    </tr>\n",
       "    <tr>\n",
       "      <th>2</th>\n",
       "      <td>3</td>\n",
       "      <td>15</td>\n",
       "      <td>14000000.0</td>\n",
       "      <td>32862.0</td>\n",
       "      <td>145.0</td>\n",
       "      <td>7.2</td>\n",
       "      <td>91415.0</td>\n",
       "    </tr>\n",
       "    <tr>\n",
       "      <th>3</th>\n",
       "      <td>1</td>\n",
       "      <td>5</td>\n",
       "      <td>15000000.0</td>\n",
       "      <td>32619.0</td>\n",
       "      <td>107.0</td>\n",
       "      <td>7.5</td>\n",
       "      <td>101702.0</td>\n",
       "    </tr>\n",
       "    <tr>\n",
       "      <th>4</th>\n",
       "      <td>1</td>\n",
       "      <td>6</td>\n",
       "      <td>15000000.0</td>\n",
       "      <td>32736.0</td>\n",
       "      <td>100.0</td>\n",
       "      <td>7.0</td>\n",
       "      <td>77659.0</td>\n",
       "    </tr>\n",
       "    <tr>\n",
       "      <th>...</th>\n",
       "      <td>...</td>\n",
       "      <td>...</td>\n",
       "      <td>...</td>\n",
       "      <td>...</td>\n",
       "      <td>...</td>\n",
       "      <td>...</td>\n",
       "      <td>...</td>\n",
       "    </tr>\n",
       "    <tr>\n",
       "      <th>629</th>\n",
       "      <td>2</td>\n",
       "      <td>0</td>\n",
       "      <td>250000000.0</td>\n",
       "      <td>44477.0</td>\n",
       "      <td>163.0</td>\n",
       "      <td>7.3</td>\n",
       "      <td>323556.0</td>\n",
       "    </tr>\n",
       "    <tr>\n",
       "      <th>630</th>\n",
       "      <td>2</td>\n",
       "      <td>10</td>\n",
       "      <td>55000000.0</td>\n",
       "      <td>44512.0</td>\n",
       "      <td>115.0</td>\n",
       "      <td>7.5</td>\n",
       "      <td>82101.0</td>\n",
       "    </tr>\n",
       "    <tr>\n",
       "      <th>631</th>\n",
       "      <td>2</td>\n",
       "      <td>0</td>\n",
       "      <td>110000000.0</td>\n",
       "      <td>44470.0</td>\n",
       "      <td>157.0</td>\n",
       "      <td>6.0</td>\n",
       "      <td>180165.0</td>\n",
       "    </tr>\n",
       "    <tr>\n",
       "      <th>632</th>\n",
       "      <td>2</td>\n",
       "      <td>3</td>\n",
       "      <td>17000000.0</td>\n",
       "      <td>41187.0</td>\n",
       "      <td>112.0</td>\n",
       "      <td>4.4</td>\n",
       "      <td>276.0</td>\n",
       "    </tr>\n",
       "    <tr>\n",
       "      <th>633</th>\n",
       "      <td>2</td>\n",
       "      <td>3</td>\n",
       "      <td>20000000.0</td>\n",
       "      <td>38793.0</td>\n",
       "      <td>105.0</td>\n",
       "      <td>4.5</td>\n",
       "      <td>242.0</td>\n",
       "    </tr>\n",
       "  </tbody>\n",
       "</table>\n",
       "<p>626 rows × 7 columns</p>\n",
       "</div>"
      ],
      "text/plain": [
       "     MPAA_Rating  genre       Budget  release_date  runtime  rating  \\\n",
       "0              1      3    7500000.0       32855.0     99.0     7.4   \n",
       "1              1      4   13000000.0       32717.0    100.0     7.2   \n",
       "2              3     15   14000000.0       32862.0    145.0     7.2   \n",
       "3              1      5   15000000.0       32619.0    107.0     7.5   \n",
       "4              1      6   15000000.0       32736.0    100.0     7.0   \n",
       "..           ...    ...          ...           ...      ...     ...   \n",
       "629            2      0  250000000.0       44477.0    163.0     7.3   \n",
       "630            2     10   55000000.0       44512.0    115.0     7.5   \n",
       "631            2      0  110000000.0       44470.0    157.0     6.0   \n",
       "632            2      3   17000000.0       41187.0    112.0     4.4   \n",
       "633            2      3   20000000.0       38793.0    105.0     4.5   \n",
       "\n",
       "     rating_count  \n",
       "0         91075.0  \n",
       "1         91415.0  \n",
       "2         91415.0  \n",
       "3        101702.0  \n",
       "4         77659.0  \n",
       "..            ...  \n",
       "629      323556.0  \n",
       "630       82101.0  \n",
       "631      180165.0  \n",
       "632         276.0  \n",
       "633         242.0  \n",
       "\n",
       "[626 rows x 7 columns]"
      ]
     },
     "execution_count": 31,
     "metadata": {},
     "output_type": "execute_result"
    }
   ],
   "source": [
    "X"
   ]
  },
  {
   "cell_type": "markdown",
   "metadata": {},
   "source": [
    "3. Perform 10-fold cross-validation with Ridge regression for each value of λ\n"
   ]
  },
  {
   "cell_type": "code",
   "execution_count": 32,
   "metadata": {},
   "outputs": [
    {
     "name": "stdout",
     "output_type": "stream",
     "text": [
      "[0.5484197885755804, 0.5484921443880948, 0.5485618758016645, 0.548629022787275, 0.5486936243950995, 0.548755718782836, 0.5488153432429792, 0.5488725342290741, 0.5489273273809976, 0.5489797575493089, 0.5490298588187095, 0.5490776645306501, 0.5491232073051234, 0.5491665190616739, 0.5492076310396594, 0.5492465738177965, 0.5492833773330165, 0.5493180708986647, 0.549350683222066, 0.5493812424214854, 0.549409776042505, 0.5494363110738445, 0.5494608739626454, 0.5494834906292394, 0.5495041864814234, 0.5495229864282593, 0.5495399148934175, 0.5495549958280819, 0.5495682527234317, 0.5495797086227198, 0.5495893861329593, 0.5495973074362356, 0.5496034943006561, 0.549607968090954, 0.5496107497787556, 0.5496118599525259, 0.5496113188272045, 0.5496091462535407, 0.5496053617271419, 0.5495999843972438, 0.5495930330752119, 0.5495845262427865, 0.5495744820600774, 0.5495629183733186, 0.5495498527223921, 0.5495353023481275, 0.5495192841993852, 0.5495018149399333, 0.5494829109551216, 0.5494625883583617, 0.5494408629974205, 0.5494177504605315, 0.5493932660823314, 0.5493674249496285, 0.549340241907005, 0.5493117315622653, 0.5492819082917273, 0.5492507862453684, 0.5492183793518288, 0.5491847013232746, 0.5491497656601294, 0.5491135856556751, 0.5490761744005273, 0.5490375447869904, 0.5489977095132954, 0.5489566810877224, 0.5489144718326153, 0.5488710938882878, 0.5488265592168278, 0.548780879605801, 0.5487340666718574, 0.5486861318642444, 0.5486370864682282, 0.5485869416084272, 0.5485357082520608, 0.5484833972121126, 0.5484300191504164, 0.5483755845806617, 0.5483201038713243, 0.5482635872485233, 0.5482060447988075, 0.5481474864718711, 0.5480879220832033, 0.5480273613166733, 0.5479658137270501, 0.5479032887424626, 0.5478397956667989, 0.5477753436820485, 0.5477099418505871, 0.5476435991174082, 0.5475763243122997, 0.5475081261519705, 0.5474390132421257, 0.5473689940794937, 0.5472980770538057, 0.547226270449729, 0.5471535824487558, 0.5470800211310469, 0.5470055944772363, 0.5469303103701904, 0.5468541765967299, 0.5467772008493121, 0.5466993907276755, 0.546620753740445, 0.5465412973067054, 0.546461028757536, 0.5463799553375133, 0.5462980842061798, 0.5462154224394804, 0.5461319770311683, 0.5460477548941786, 0.5459627628619731, 0.5458770076898568, 0.5457904960562641, 0.5457032345640191, 0.5456152297415686, 0.5455264880441885, 0.545437015855165, 0.5453468194869511, 0.5452559051822983, 0.545164279115365, 0.5450719473928027, 0.5449789160548177, 0.544885191076213, 0.5447907783674073, 0.5446956837754344, 0.5445999130849213, 0.5445034720190467, 0.544406366240481, 0.5443086013523055, 0.5442101828989159, 0.544111116366905, 0.5440114071859303, 0.5439110607295625, 0.5438100823161185, 0.5437084772094782, 0.5436062506198842, 0.5435034077047272, 0.5433999535693149, 0.5432958932676282, 0.5431912318030605, 0.5430859741291441, 0.5429801251502631, 0.5428736897223516, 0.5427666726535803, 0.542659078705028, 0.5425509125913437, 0.5424421789813926, 0.5423328824988931, 0.5422230277230415, 0.542112619189123, 0.5420016613891143, 0.541890158772274, 0.5417781157457217, 0.5416655366750078, 0.5415524258846725, 0.5414387876587937, 0.5413246262415277, 0.5412099458376369, 0.5410947506130115, 0.540979044695179, 0.5408628321738069, 0.540746117101196, 0.5406289034927637, 0.5405111953275215, 0.5403929965485417, 0.5402743110634178, 0.5401551427447162, 0.5400354954304196, 0.539915372924365, 0.5397947789966712, 0.5396737173841617, 0.5395521917907793, 0.5394302058879938, 0.5393077633152028, 0.539184867680126, 0.5390615225591933, 0.5389377314979266, 0.5388134980113134, 0.5386888255841774, 0.5385637176715405, 0.53843817769898, 0.5383122090629802, 0.5381858151312774, 0.5380589992432006, 0.5379317647100058, 0.5378041148152051, 0.5376760528148912, 0.5375475819380557, 0.537418705386904, 0.5372894263371628, 0.5371597479383858, 0.5370296733142524, 0.5368992055628623, 0.5367683477570258, 0.5366371029445502, 0.5365054741485202, 0.5363734643675759, 0.5362410765761847, 0.5361083137249112, 0.5359751787406808, 0.5358416745270412, 0.5357078039644186, 0.5355735699103714, 0.5354389751998385, 0.5353040226453853, 0.5351687150374462, 0.5350330551445615, 0.5348970457136135, 0.5347606894700578, 0.5346239891181508, 0.5344869473411746, 0.5343495668016592, 0.5342118501416004, 0.5340737999826743, 0.5339354189264511, 0.5337967095546028, 0.5336576744291099, 0.533518316092465, 0.5333786370678728, 0.533238639859448, 0.5330983269524099, 0.5329577008132746, 0.5328167638900453, 0.5326755186123978, 0.5325339673918661, 0.5323921126220235, 0.5322499566786619, 0.5321075019199699, 0.5319647506867051, 0.5318217053023684, 0.5316783680733725, 0.5315347412892106, 0.5313908272226204, 0.5312466281297481, 0.5311021462503097, 0.5309573838077488, 0.5308123430093944, 0.5306670260466149, 0.5305214350949714, 0.5303755723143677, 0.5302294398492, 0.5300830398285034, 0.529936374366096, 0.5297894455607233, 0.5296422554961987, 0.5294948062415434, 0.529347099851124, 0.5291991383647882, 0.5290509238079995, 0.5289024581919689, 0.5287537435137879, 0.5286047817565551, 0.5284555748895057, 0.5283061248681372, 0.5281564336343338, 0.5280065031164898, 0.5278563352296303, 0.5277059318755322, 0.5275552949428426, 0.5274044263071951, 0.527253327831327, 0.5271020013651923, 0.5269504487460754, 0.5267986717987028, 0.5266466723353528, 0.5264944521559651, 0.5263420130482483, 0.5261893567877867, 0.5260364851381443, 0.5258833998509702, 0.5257301026661005, 0.5255765953116605, 0.5254228795041641, 0.5252689569486141, 0.5251148293385994, 0.5249604983563929, 0.5248059656730464, 0.5246512329484857, 0.5244963018316047, 0.5243411739603574, 0.5241858509618499, 0.5240303344524307, 0.5238746260377807, 0.5237187273130007, 0.5235626398627007, 0.5234063652610845, 0.5232499050720367, 0.5230932608492068, 0.5229364341360934, 0.5227794264661265, 0.5226222393627495, 0.5224648743395011, 0.522307332900094, 0.5221496165384956, 0.5219917267390056, 0.521833664976334, 0.5216754327156773, 0.5215170314127955, 0.521358462514086]\n",
      "best error = 0.6487628394212387, best lambda = 161.0\n"
     ]
    }
   ],
   "source": [
    "errors = []\n",
    "errors_r2 = []\n",
    "\n",
    "\n",
    "best_error = 1\n",
    "\n",
    "\n",
    "best_lambda = None\n",
    "\n",
    "\n",
    "\n",
    "for lambda_i in lambdas:\n",
    "    model = Ridge(alpha=lambda_i)\n",
    "\n",
    "\n",
    "    # 10 fold cross validation\n",
    "\n",
    "\n",
    "    scores = cross_val_score(model, X_scaled, y, cv=10)\n",
    "\n",
    "    mean_score = scores.mean()\n",
    "\n",
    "    # generalization error for lambda_i\n",
    "\n",
    "    gen_err = 1 - mean_score\n",
    "\n",
    "\n",
    "    errors.append(gen_err)\n",
    "\n",
    "    if gen_err < best_error:\n",
    "        best_error = gen_err  # update the lowest generalization error\n",
    "\n",
    "\n",
    "        best_lambda = lambda_i  # update the best lambda\n",
    "\n",
    "    y_pred = cross_val_predict(model, X_scaled, y, cv=10)  # Model previsions\n",
    "    r_2 = r2_score(y, y_pred)\n",
    "\n",
    "    # number of misclassified observations\n",
    "\n",
    "    errors_r2.append(r_2)\n",
    "\n",
    "\n",
    "print(errors_r2)\n",
    "\n",
    "\n",
    "\n",
    "print(f\"best error = {best_error}, best lambda = {best_lambda}\")"
   ]
  },
  {
   "cell_type": "code",
   "execution_count": 33,
   "metadata": {},
   "outputs": [],
   "source": [
    "from sklearn.model_selection import train_test_split\n",
    "\n",
    "X_train, X_test, y_train, y_test = train_test_split(\n",
    "    X_scaled, y, test_size=0.3, random_state=0\n",
    ")"
   ]
  },
  {
   "cell_type": "code",
   "execution_count": 34,
   "metadata": {},
   "outputs": [
    {
     "data": {
      "text/html": [
       "<style>#sk-container-id-2 {color: black;}#sk-container-id-2 pre{padding: 0;}#sk-container-id-2 div.sk-toggleable {background-color: white;}#sk-container-id-2 label.sk-toggleable__label {cursor: pointer;display: block;width: 100%;margin-bottom: 0;padding: 0.3em;box-sizing: border-box;text-align: center;}#sk-container-id-2 label.sk-toggleable__label-arrow:before {content: \"▸\";float: left;margin-right: 0.25em;color: #696969;}#sk-container-id-2 label.sk-toggleable__label-arrow:hover:before {color: black;}#sk-container-id-2 div.sk-estimator:hover label.sk-toggleable__label-arrow:before {color: black;}#sk-container-id-2 div.sk-toggleable__content {max-height: 0;max-width: 0;overflow: hidden;text-align: left;background-color: #f0f8ff;}#sk-container-id-2 div.sk-toggleable__content pre {margin: 0.2em;color: black;border-radius: 0.25em;background-color: #f0f8ff;}#sk-container-id-2 input.sk-toggleable__control:checked~div.sk-toggleable__content {max-height: 200px;max-width: 100%;overflow: auto;}#sk-container-id-2 input.sk-toggleable__control:checked~label.sk-toggleable__label-arrow:before {content: \"▾\";}#sk-container-id-2 div.sk-estimator input.sk-toggleable__control:checked~label.sk-toggleable__label {background-color: #d4ebff;}#sk-container-id-2 div.sk-label input.sk-toggleable__control:checked~label.sk-toggleable__label {background-color: #d4ebff;}#sk-container-id-2 input.sk-hidden--visually {border: 0;clip: rect(1px 1px 1px 1px);clip: rect(1px, 1px, 1px, 1px);height: 1px;margin: -1px;overflow: hidden;padding: 0;position: absolute;width: 1px;}#sk-container-id-2 div.sk-estimator {font-family: monospace;background-color: #f0f8ff;border: 1px dotted black;border-radius: 0.25em;box-sizing: border-box;margin-bottom: 0.5em;}#sk-container-id-2 div.sk-estimator:hover {background-color: #d4ebff;}#sk-container-id-2 div.sk-parallel-item::after {content: \"\";width: 100%;border-bottom: 1px solid gray;flex-grow: 1;}#sk-container-id-2 div.sk-label:hover label.sk-toggleable__label {background-color: #d4ebff;}#sk-container-id-2 div.sk-serial::before {content: \"\";position: absolute;border-left: 1px solid gray;box-sizing: border-box;top: 0;bottom: 0;left: 50%;z-index: 0;}#sk-container-id-2 div.sk-serial {display: flex;flex-direction: column;align-items: center;background-color: white;padding-right: 0.2em;padding-left: 0.2em;position: relative;}#sk-container-id-2 div.sk-item {position: relative;z-index: 1;}#sk-container-id-2 div.sk-parallel {display: flex;align-items: stretch;justify-content: center;background-color: white;position: relative;}#sk-container-id-2 div.sk-item::before, #sk-container-id-2 div.sk-parallel-item::before {content: \"\";position: absolute;border-left: 1px solid gray;box-sizing: border-box;top: 0;bottom: 0;left: 50%;z-index: -1;}#sk-container-id-2 div.sk-parallel-item {display: flex;flex-direction: column;z-index: 1;position: relative;background-color: white;}#sk-container-id-2 div.sk-parallel-item:first-child::after {align-self: flex-end;width: 50%;}#sk-container-id-2 div.sk-parallel-item:last-child::after {align-self: flex-start;width: 50%;}#sk-container-id-2 div.sk-parallel-item:only-child::after {width: 0;}#sk-container-id-2 div.sk-dashed-wrapped {border: 1px dashed gray;margin: 0 0.4em 0.5em 0.4em;box-sizing: border-box;padding-bottom: 0.4em;background-color: white;}#sk-container-id-2 div.sk-label label {font-family: monospace;font-weight: bold;display: inline-block;line-height: 1.2em;}#sk-container-id-2 div.sk-label-container {text-align: center;}#sk-container-id-2 div.sk-container {/* jupyter's `normalize.less` sets `[hidden] { display: none; }` but bootstrap.min.css set `[hidden] { display: none !important; }` so we also need the `!important` here to be able to override the default hidden behavior on the sphinx rendered scikit-learn.org. See: https://github.com/scikit-learn/scikit-learn/issues/21755 */display: inline-block !important;position: relative;}#sk-container-id-2 div.sk-text-repr-fallback {display: none;}</style><div id=\"sk-container-id-2\" class=\"sk-top-container\"><div class=\"sk-text-repr-fallback\"><pre>Ridge(alpha=161.0)</pre><b>In a Jupyter environment, please rerun this cell to show the HTML representation or trust the notebook. <br />On GitHub, the HTML representation is unable to render, please try loading this page with nbviewer.org.</b></div><div class=\"sk-container\" hidden><div class=\"sk-item\"><div class=\"sk-estimator sk-toggleable\"><input class=\"sk-toggleable__control sk-hidden--visually\" id=\"sk-estimator-id-2\" type=\"checkbox\" checked><label for=\"sk-estimator-id-2\" class=\"sk-toggleable__label sk-toggleable__label-arrow\">Ridge</label><div class=\"sk-toggleable__content\"><pre>Ridge(alpha=161.0)</pre></div></div></div></div></div>"
      ],
      "text/plain": [
       "Ridge(alpha=161.0)"
      ]
     },
     "execution_count": 34,
     "metadata": {},
     "output_type": "execute_result"
    }
   ],
   "source": [
    "from sklearn import svm\n",
    "\n",
    "clf = Ridge(alpha=best_lambda).fit(X_scaled, y)\n",
    "clf"
   ]
  },
  {
   "cell_type": "code",
   "execution_count": 35,
   "metadata": {},
   "outputs": [
    {
     "data": {
      "text/plain": [
       "0.5369906861927505"
      ]
     },
     "execution_count": 35,
     "metadata": {},
     "output_type": "execute_result"
    }
   ],
   "source": [
    "clf.score(X_test, y_test)"
   ]
  },
  {
   "cell_type": "code",
   "execution_count": 36,
   "metadata": {},
   "outputs": [
    {
     "data": {
      "text/plain": [
       "array([0.31233154, 0.12532371, 0.33735605, 0.30932707, 0.52996364,\n",
       "       0.43578536, 0.3286121 , 0.3716238 , 0.19592292, 0.40703011])"
      ]
     },
     "execution_count": 36,
     "metadata": {},
     "output_type": "execute_result"
    }
   ],
   "source": [
    "scores"
   ]
  },
  {
   "cell_type": "code",
   "execution_count": 37,
   "metadata": {},
   "outputs": [
    {
     "data": {
      "image/png": "[encoded data removed]",
      "text/plain": [
       "<Figure size 1000x600 with 1 Axes>"
      ]
     },
     "metadata": {},
     "output_type": "display_data"
    }
   ],
   "source": [
    "# Create a plot of generalization error as a function of λ\n",
    "plt.figure(figsize=(10, 6))\n",
    "plt.semilogx(lambdas, errors, marker=\"o\", linestyle=\"-\")\n",
    "plt.title(\"Generalization Error as a Function of Lambda\")\n",
    "plt.xlabel(\"Lambda (log scale)\")\n",
    "plt.ylabel(\"Generalization Error\")\n",
    "plt.grid(True)\n",
    "plt.show()"
   ]
  },
  {
   "cell_type": "markdown",
   "metadata": {},
   "source": [
    "4. Find the λ that gives the lowest generalization error\n"
   ]
  },
  {
   "cell_type": "markdown",
   "metadata": {},
   "source": [
    "Values of coefficients are the weigths for each feature and intercept is the bias term\n",
    "$$y=(biasterm) + weigths*(features)$$\n"
   ]
  },
  {
   "cell_type": "code",
   "execution_count": 9,
   "metadata": {},
   "outputs": [],
   "source": [
    "# Create and train a Ridge regression model\n",
    "model = Ridge(alpha=best_lambda)  # Use the best_alpha value you've determined\n",
    "model.fit(X_scaled, y)  # X is your feature matrix, y is your target variable\n",
    "\n",
    "# Access the coefficients\n",
    "coefficients = model.coef_  # Coefficients (weights)\n",
    "intercept = model.intercept_  # Intercept (bias term)"
   ]
  },
  {
   "cell_type": "code",
   "execution_count": 10,
   "metadata": {},
   "outputs": [
    {
     "data": {
      "text/plain": [
       "array([-2.68033647e+07, -1.42442736e+07,  1.30938971e+08,  5.31093829e+07,\n",
       "        3.46004724e+07,  1.16913960e+07,  7.33797296e+07])"
      ]
     },
     "execution_count": 10,
     "metadata": {},
     "output_type": "execute_result"
    }
   ],
   "source": [
    "coefficients"
   ]
  },
  {
   "cell_type": "code",
   "execution_count": 11,
   "metadata": {},
   "outputs": [
    {
     "data": {
      "text/plain": [
       "435227473.55111825"
      ]
     },
     "execution_count": 11,
     "metadata": {},
     "output_type": "execute_result"
    }
   ],
   "source": [
    "intercept"
   ]
  },
  {
   "cell_type": "markdown",
   "metadata": {},
   "source": [
    "This is the plot as 14.2 in the book\n"
   ]
  },
  {
   "cell_type": "code",
   "execution_count": 12,
   "metadata": {},
   "outputs": [
    {
     "data": {
      "image/png": "[encoded data removed]",
      "text/plain": [
       "<Figure size 1000x600 with 1 Axes>"
      ]
     },
     "metadata": {},
     "output_type": "display_data"
    }
   ],
   "source": [
    "coefficients = []\n",
    "lambdas1 = np.arange(1, 100000, 20, dtype=float)\n",
    "\n",
    "for alpha in lambdas1:\n",
    "    # Create and fit a Ridge regression model\n",
    "    model = Ridge(alpha=alpha)\n",
    "    model.fit(X_scaled, y)  # Use your transformed data\n",
    "\n",
    "    # Get the coefficients for this λ\n",
    "    coef = model.coef_\n",
    "    coefficients.append(coef)\n",
    "\n",
    "# Convert coefficients to a NumPy array\n",
    "coefficients = np.array(coefficients)\n",
    "\n",
    "# Create a plot to visualize the coefficients\n",
    "plt.figure(figsize=(10, 6))\n",
    "for i in range(coefficients.shape[1]):\n",
    "    plt.semilogx(lambdas1, coefficients[:, i], label=f\"Feature {i} ({X.columns[i]})\")\n",
    "plt.title(\"Ridge Regression Coefficients as a Function of λ\")\n",
    "plt.xlabel(\"Regularization Parameter (λ)\")\n",
    "plt.ylabel(\"Coefficient Value (weights)\")\n",
    "plt.legend()\n",
    "plt.grid()\n",
    "plt.show()"
   ]
  },
  {
   "cell_type": "markdown",
   "metadata": {},
   "source": [
    "## Regression part b\n"
   ]
  },
  {
   "cell_type": "markdown",
   "metadata": {},
   "source": [
    "In this section, we will compare three models: the regularized\n",
    "linear regression model from the previous section, an artificial neural network (ANN) and a baseline.\n",
    "\n",
    "We are interested in two questions:\n",
    "\n",
    "- Is one model better than the other?\n",
    "- Is either model better than a trivial baseline?.\n",
    "\n",
    "We will attempt to answer\n",
    "these questions with two-level cross-validation.\n"
   ]
  },
  {
   "cell_type": "markdown",
   "metadata": {},
   "source": [
    "### 1 Implement two-level cross-validation\n",
    "\n",
    "(see algorithm 6 of the lecture notes). We will use 2-level cross-validation to compare the models with K1 = K2 = 10 folds.\n",
    "\n",
    "As a baseline model, we will apply a linear regression model with no features, i.e. it computes the mean of y on the training data, and use this value to predict y on the test data.\n",
    "\n",
    "Make sure you can fit an ANN model to the data.\n",
    "\n",
    "As complexity-controlling parameter for the ANN, we will use the number of hidden units5 h.\n",
    "Based on a few test-runs, select a reasonable range of values for h (which should include h = 1), and describe the range of values you will use for h and λ.\n"
   ]
  },
  {
   "cell_type": "markdown",
   "metadata": {},
   "source": [
    "The baseline model is a simple linear regression model that computes the mean of the target variable (y) on the training data and uses this mean value to predict y on the test data.\n"
   ]
  },
  {
   "cell_type": "code",
   "execution_count": 13,
   "metadata": {},
   "outputs": [],
   "source": [
    "import torch\n",
    "import toolbox_functions\n",
    "from sklearn import model_selection"
   ]
  },
  {
   "cell_type": "code",
   "execution_count": 14,
   "metadata": {},
   "outputs": [],
   "source": [
    "# Parameters for Neural Network\n",
    "n_hidden_units = 1\n",
    "n_replicates = 1  # number of networks trained in each k-fold\n",
    "max_iter = 10000\n",
    "N, M = X.shape\n",
    "\n",
    "\n",
    "def model():\n",
    "    return torch.nn.Sequential(\n",
    "        torch.nn.Linear(M, n_hidden_units),  # M features to n_hidden_units\n",
    "        torch.nn.Tanh(),  # 1st transfer function,\n",
    "        torch.nn.Linear(n_hidden_units, 1),  # n_hidden_units to 1 output neuron\n",
    "        # no final tranfer function, i.e. \"linear output\"\n",
    "    )\n",
    "\n",
    "\n",
    "loss_fn = torch.nn.MSELoss()"
   ]
  },
  {
   "cell_type": "code",
   "execution_count": 15,
   "metadata": {},
   "outputs": [
    {
     "name": "stdout",
     "output_type": "stream",
     "text": [
      "\n",
      "Crossvalidation fold: 1/10\n",
      "Baseline MSE: 1.4380800393496336e+17\n",
      "best error = 0.6658066062032819, best lambda = 136.0\n",
      "\n",
      "Crossvalidation fold: 2/10\n",
      "Baseline MSE: 7.084153319777284e+16\n",
      "best error = 0.6341769788136511, best lambda = 143.0\n",
      "\n",
      "Crossvalidation fold: 3/10\n",
      "Baseline MSE: 1.0988902839912518e+17\n",
      "best error = 0.6782475387240069, best lambda = 157.0\n",
      "\n",
      "Crossvalidation fold: 4/10\n",
      "Baseline MSE: 7.825253542125474e+16\n",
      "best error = 0.6831424324629112, best lambda = 150.0\n",
      "\n",
      "Crossvalidation fold: 5/10\n",
      "Baseline MSE: 6.346318145488119e+16\n",
      "best error = 0.660499689355105, best lambda = 182.0\n",
      "\n",
      "Crossvalidation fold: 6/10\n",
      "Baseline MSE: 1.7190419161088867e+17\n",
      "best error = 0.6185822295404305, best lambda = 152.0\n",
      "\n",
      "Crossvalidation fold: 7/10\n",
      "Baseline MSE: 1.1541300009163043e+17\n",
      "best error = 0.6746236714978036, best lambda = 151.0\n",
      "\n",
      "Crossvalidation fold: 8/10\n",
      "Baseline MSE: 1.946801032828448e+17\n",
      "best error = 0.6613183353801573, best lambda = 121.0\n",
      "\n",
      "Crossvalidation fold: 9/10\n",
      "Baseline MSE: 1.0105318378298698e+17\n",
      "best error = 0.6191438869359135, best lambda = 151.0\n",
      "\n",
      "Crossvalidation fold: 10/10\n",
      "Baseline MSE: 9.413489072484594e+16\n",
      "best error = 0.6757682025564051, best lambda = 157.0\n"
     ]
    }
   ],
   "source": [
    "# Define the number of folds for outer and inner cross-validation\n",
    "outer_folds = 10\n",
    "inner_folds = 10\n",
    "\n",
    "# Initialize objects for outer cross-validation\n",
    "outer_cv = model_selection.KFold(n_splits=outer_folds, shuffle=True, random_state=42)\n",
    "\n",
    "# List to store the scores of outer cross-validation\n",
    "outer_scores = []\n",
    "\n",
    "for k, (train_index, test_index) in enumerate(outer_cv.split(X_scaled)):\n",
    "    print(\"\\nCrossvalidation fold: {0}/{1}\".format(k + 1, outer_folds))\n",
    "\n",
    "    X_par = X_scaled[train_index]\n",
    "    y_par = y.to_numpy()[train_index]\n",
    "\n",
    "    X_test = X_scaled[test_index]\n",
    "    y_test = y.to_numpy()[test_index]\n",
    "\n",
    "    ## BASELINE NO LAMBDA NO FEATURES\n",
    "    # Calculate the mean of y in the training data\n",
    "    y_mean = np.mean(y_par)\n",
    "\n",
    "    # Create an array of predicted values using the mean\n",
    "    y_pred_baseline = np.full(y_test.shape, y_mean)\n",
    "\n",
    "    # Calculate the mean squared error (MSE) for the baseline model\n",
    "    mse_baseline = ((y_pred_baseline - y_test) ** 2).mean()\n",
    "\n",
    "    # Print or store the MSE for the baseline model\n",
    "    print(f\"Baseline MSE: {mse_baseline}\")\n",
    "\n",
    "    ## RIDGE REGRESSION\n",
    "    lambdas = np.arange(1, 200, 1, dtype=\"float\")\n",
    "\n",
    "    # errors contains generalization error for each lambda\n",
    "    errors_ridge = []\n",
    "    best_error_lambda_i = 1\n",
    "    best_lambda_i_ridge = None\n",
    "\n",
    "    # RIDGE REGRESSION AS BEFORE\n",
    "    for lambda_i in lambdas:\n",
    "        ridge_model = Ridge(alpha=lambda_i)\n",
    "\n",
    "        # 10 fold cross validation\n",
    "        scores = cross_val_score(ridge_model, X_par, y_par, cv=inner_folds)\n",
    "        mean_score = scores.mean()\n",
    "\n",
    "        # generalization error for lambda_i\n",
    "        gen_err_lambda_i_ridge = 1 - mean_score\n",
    "\n",
    "        errors_ridge.append(gen_err_lambda_i_ridge)\n",
    "\n",
    "        if gen_err_lambda_i_ridge < best_error_lambda_i:\n",
    "            best_error_lambda_i = (\n",
    "                gen_err_lambda_i_ridge  # update the lowest generalization error\n",
    "            )\n",
    "            best_lambda_i_ridge = lambda_i  # update the best lambda\n",
    "\n",
    "    # print(errors_ridge)\n",
    "    print(f\"best error = {best_error_lambda_i}, best lambda = {best_lambda_i_ridge}\")\n",
    "\n",
    "    # ## ANN\n",
    "    # # Some parameters for Neural Network are defined before the loop\n",
    "    # errors_NN = []\n",
    "    # # Convert training and test set for current CV fold, convert to tensors\n",
    "    # X_par_NN = torch.Tensor(X_par)\n",
    "    # y_par_NN = torch.Tensor(y_par)\n",
    "    # X_test_NN = torch.Tensor(X_test)\n",
    "    # y_test_NN = torch.Tensor(y_test)\n",
    "\n",
    "    # net, final_loss, learning_curve = toolbox_functions.train_neural_net(\n",
    "    #     model,\n",
    "    #     loss_fn,\n",
    "    #     X=X_par_NN,\n",
    "    #     y=y_par_NN,\n",
    "    #     n_replicates=n_replicates,\n",
    "    #     max_iter=max_iter,\n",
    "    # )\n",
    "\n",
    "    # # Determine estimated class labels for test set\n",
    "    # y_test_est = net(X_test_NN)\n",
    "\n",
    "    # # Determine errors and errors\n",
    "    # se = (y_test_est.float() - y_test.float()) ** 2  # squared error\n",
    "    # mse_NN = (sum(se).type(torch.float) / len(y_test)).data.numpy()  # mean\n",
    "    # errors_NN.append(mse_NN)  # store error rate for current CV fold\n",
    "    # print(\"\\n\\tBest loss: {}\\n\".format(final_loss))"
   ]
  },
  {
   "cell_type": "code",
   "execution_count": 16,
   "metadata": {},
   "outputs": [],
   "source": [
    "from sklearn.model_selection import train_test_split\n",
    "\n",
    "test_proportion = 0.3\n",
    "\n",
    "# Split your data into training and testing sets\n",
    "X_train, X_test, y_train, y_test = train_test_split(\n",
    "    X_scaled, y, test_size=test_proportion\n",
    ")"
   ]
  },
  {
   "cell_type": "code",
   "execution_count": 17,
   "metadata": {},
   "outputs": [],
   "source": [
    "from sklearn.linear_model import LinearRegression\n",
    "\n",
    "# Create the baseline model\n",
    "baseline_model = LinearRegression()\n",
    "\n",
    "# Fit the model to the mean of the training target variable\n",
    "baseline_model.fit(X_train, y_train)\n",
    "\n",
    "# Make predictions using the trained baseline model\n",
    "baseline_predictions = baseline_model.predict(X_test)"
   ]
  },
  {
   "cell_type": "markdown",
   "metadata": {},
   "source": [
    "For the ANN model, you need to set up a range of values for the number of hidden units (h) and the regularization parameter (λ).\n"
   ]
  },
  {
   "cell_type": "code",
   "execution_count": 18,
   "metadata": {},
   "outputs": [],
   "source": [
    "# Define a range of values for hidden units (h)\n",
    "hidden_units_range = [1, 10, 20, 30, 40, 50]\n",
    "\n",
    "# Define a range of values for the regularization parameter (λ)\n",
    "lambda_range = np.arange(1, 200, 1, dtype=float)"
   ]
  },
  {
   "cell_type": "markdown",
   "metadata": {},
   "source": []
  }
 ],
 "metadata": {
  "kernelspec": {
   "display_name": "Python 3",
   "language": "python",
   "name": "python3"
  },
  "language_info": {
   "codemirror_mode": {
    "name": "ipython",
    "version": 3
   },
   "file_extension": ".py",
   "mimetype": "text/x-python",
   "name": "python",
   "nbconvert_exporter": "python",
   "pygments_lexer": "ipython3",
   "version": "3.11.6"
  }
 },
 "nbformat": 4,
 "nbformat_minor": 2
}
